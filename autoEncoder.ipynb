{
 "cells": [
  {
   "cell_type": "markdown",
   "metadata": {},
   "source": [
    "# Conditional Variational Auto Encoder (CVAE)\n",
    "\n",
    "I am going to create my own CVAE, and I am going to use the mnist dataset to show it's learning"
   ]
  },
  {
   "cell_type": "markdown",
   "metadata": {},
   "source": [
    "## Import the data and tensorflow"
   ]
  },
  {
   "cell_type": "code",
   "execution_count": 1,
   "metadata": {},
   "outputs": [],
   "source": [
    "# Import numpy and Pandas\n",
    "\n",
    "import numpy as np\n",
    "import matplotlib.pyplot as plt\n",
    "\n",
    "# import the data\n",
    "from tensorflow import keras\n",
    "from keras.datasets import mnist\n",
    "\n",
    "# import TensorFlow, and neural network stuff \n",
    "\n",
    "import tensorflow as tf\n",
    "from tensorflow.keras import layers, losses, models, Model, ops, Input"
   ]
  },
  {
   "cell_type": "markdown",
   "metadata": {},
   "source": [
    "## Print out the Images"
   ]
  },
  {
   "cell_type": "code",
   "execution_count": 2,
   "metadata": {},
   "outputs": [
    {
     "data": {
      "image/png": "[encoded data removed]",
      "text/plain": [
       "<Figure size 100x100 with 1 Axes>"
      ]
     },
     "metadata": {},
     "output_type": "display_data"
    },
    {
     "data": {
      "image/png": "[encoded data removed]",
      "text/plain": [
       "<Figure size 100x100 with 1 Axes>"
      ]
     },
     "metadata": {},
     "output_type": "display_data"
    },
    {
     "data": {
      "image/png": "[encoded data removed]",
      "text/plain": [
       "<Figure size 100x100 with 1 Axes>"
      ]
     },
     "metadata": {},
     "output_type": "display_data"
    },
    {
     "data": {
      "image/png": "[encoded data removed]",
      "text/plain": [
       "<Figure size 100x100 with 1 Axes>"
      ]
     },
     "metadata": {},
     "output_type": "display_data"
    },
    {
     "data": {
      "image/png": "[encoded data removed]",
      "text/plain": [
       "<Figure size 100x100 with 1 Axes>"
      ]
     },
     "metadata": {},
     "output_type": "display_data"
    },
    {
     "data": {
      "image/png": "[encoded data removed]",
      "text/plain": [
       "<Figure size 100x100 with 1 Axes>"
      ]
     },
     "metadata": {},
     "output_type": "display_data"
    },
    {
     "data": {
      "image/png": "[encoded data removed]",
      "text/plain": [
       "<Figure size 100x100 with 1 Axes>"
      ]
     },
     "metadata": {},
     "output_type": "display_data"
    },
    {
     "data": {
      "image/png": "[encoded data removed]",
      "text/plain": [
       "<Figure size 100x100 with 1 Axes>"
      ]
     },
     "metadata": {},
     "output_type": "display_data"
    },
    {
     "data": {
      "image/png": "[encoded data removed]",
      "text/plain": [
       "<Figure size 100x100 with 1 Axes>"
      ]
     },
     "metadata": {},
     "output_type": "display_data"
    },
    {
     "data": {
      "image/png": "[encoded data removed]",
      "text/plain": [
       "<Figure size 100x100 with 1 Axes>"
      ]
     },
     "metadata": {},
     "output_type": "display_data"
    }
   ],
   "source": [
    "(x_train, y_train), (x_test, y_test) = mnist.load_data()\n",
    "mnist_data=x_train\n",
    "#Normilize the data \n",
    "mnist_data=mnist_data/255.0\n",
    "\n",
    "for i in range(10):\n",
    "    plt.figure(1, figsize=(1,1))\n",
    "    plt.imshow(mnist_data[i], cmap=plt.cm.gray_r, interpolation=\"nearest\")\n",
    "    plt.show()"
   ]
  },
  {
   "cell_type": "markdown",
   "metadata": {},
   "source": [
    "## Here is the original VAE I worked on constructing"
   ]
  },
  {
   "cell_type": "markdown",
   "metadata": {},
   "source": [
    "### Here is the VAE subclass that takes into account:\n",
    "\n",
    "1) The modification of the train step function\n",
    "2) using both the encoder and the decoder\n",
    "3) using both KL divergence and MSE for loss function"
   ]
  },
  {
   "cell_type": "code",
   "execution_count": 32,
   "metadata": {},
   "outputs": [],
   "source": [
    "# This code is from citation 2\n",
    "class VAE(keras.Model):\n",
    "    def __init__(self, encoder, decoder, **kwargs):\n",
    "        super().__init__(**kwargs)\n",
    "        self.encoder = encoder\n",
    "        self.decoder = decoder\n",
    "        self.total_loss_tracker = keras.metrics.Mean(name=\"total_loss\")\n",
    "        self.reconstruction_loss_tracker = keras.metrics.Mean(name=\"reconstruction_loss\")\n",
    "        self.kl_loss_tracker = keras.metrics.Mean(name=\"kl_loss\")\n",
    "\n",
    "\n",
    "    @property\n",
    "    def metrics(self):\n",
    "        return [\n",
    "            self.total_loss_tracker,\n",
    "            self.reconstruction_loss_tracker,\n",
    "            self.kl_loss_tracker,\n",
    "        ]\n",
    "        \n",
    "    @tf.function\n",
    "    def train_step(self, data):\n",
    "        with tf.GradientTape() as tape:\n",
    "            z_mean, z_log_var, z = self.encoder(data)\n",
    "            reconstruction = self.decoder(z)\n",
    "            reconstruction_loss = tf.reduce_mean(\n",
    "                tf.reduce_sum(\n",
    "                    keras.losses.binary_crossentropy(data, reconstruction),\n",
    "                    axis=(1, 2),\n",
    "             )\n",
    "            )\n",
    "            kl_loss = -0.5 * (1 + z_log_var - ops.square(z_mean) - ops.exp(z_log_var))\n",
    "            kl_loss = tf.reduce_mean(tf.reduce_sum(kl_loss, axis=1))\n",
    "            total_loss = reconstruction_loss + 0.001 * kl_loss\n",
    "        grads = tape.gradient(total_loss, self.trainable_weights)\n",
    "        self.optimizer.apply_gradients(zip(grads, self.trainable_weights))\n",
    "        self.total_loss_tracker.update_state(total_loss)\n",
    "        self.reconstruction_loss_tracker.update_state(reconstruction_loss)\n",
    "        self.kl_loss_tracker.update_state(kl_loss)\n",
    "        return {\n",
    "            \"loss\": self.total_loss_tracker.result(),\n",
    "            \"reconstruction_loss\": self.reconstruction_loss_tracker.result(),\n",
    "            \"kl_loss\": self.kl_loss_tracker.result(),\n",
    "        }\n"
   ]
  },
  {
   "cell_type": "markdown",
   "metadata": {},
   "source": [
    "### Here is the sampling class we use to get a sample from a normal distribution"
   ]
  },
  {
   "cell_type": "code",
   "execution_count": 33,
   "metadata": {},
   "outputs": [],
   "source": [
    "# This code is from citation 2)\n",
    "class Sampling(layers.Layer):\n",
    "    \"Allows us to sample from a Gaussian Distribution\"\n",
    "    def call(self, inputs):\n",
    "        z_mean, z_log_var = inputs\n",
    "        print(z_mean)\n",
    "        batch = ops.shape(z_mean)[0]\n",
    "        dim = ops.shape(z_mean)[1]\n",
    "        epsilon = keras.random.normal(shape=(batch, dim))\n",
    "        return z_mean + ops.exp(0.5 * z_log_var) * epsilon"
   ]
  },
  {
   "cell_type": "markdown",
   "metadata": {},
   "source": [
    "### VAE class"
   ]
  },
  {
   "cell_type": "code",
   "execution_count": 34,
   "metadata": {},
   "outputs": [],
   "source": [
    "class Var_AutoEncoder:\n",
    "    encoder = \"\"\n",
    "    decoder = \"\"\n",
    "    autoEncoder = \"\"\n",
    "    shapeOfImage = 0\n",
    "    history = \"\"\n",
    "    flattened=\"\"\n",
    "    input_size=\"\"\n",
    "    latent_dim=\"\"\n",
    "    recon=[]\n",
    "    \n",
    "    def __init__(self, shapeOfImage, flattened=False, latent_dim=2):\n",
    "        '''This is how we initialize our Auto encoder. Can choose to input numOfHiddenLayers, optimizerChoice, lossChoice'''\n",
    "        self.flattened= flattened\n",
    "        self.shapeOfImage = shapeOfImage\n",
    "        self.latent_dim=latent_dim\n",
    "        \n",
    "    def constructModel(self, numOfHiddenLayers=3, optimizerChoice=\"adam\", lossChoice=losses.MeanSquaredError(), activationChoice=\"relu\"):\n",
    "        '''Here we create the encoder, the decoder, and the full auto encoder. We also compile the entire autoencoder'''\n",
    "\n",
    "        #Make the encoder, get the size of the bottleNeck to use for making the decoder\n",
    "        self.encoder, bottleNeck = self.createEncoderNetwork(numOfHiddenLayers, activationChoice)\n",
    "\n",
    "        self.encoder.summary()\n",
    "\n",
    "        #make the decoder model, using the bottleNeck size\n",
    "        self.decoder = self.createDecoderNetwork(numOfHiddenLayers, bottleNeck, activationChoice)\n",
    "\n",
    "        self.decoder.summary()\n",
    "        \n",
    "        # Pass the sampled latent vector (z) from the encoder to the decoder\n",
    "        encoder_inputs = self.encoder.input  # Input layer of the encoder\n",
    "        z_mean, z_log_var, z = self.encoder.output        # Output of the encoder (z_mean, z_log_var, z)\n",
    "        decoder_outputs = self.decoder(z)    # Decoder output for the sampled latent vector\n",
    "    \n",
    "        # Build the autoencoder\n",
    "        self.autoEncoder = Model(inputs=encoder_inputs, outputs=decoder_outputs, name=\"autoEncoder\")\n",
    "    \n",
    "        # Compile the autoencoder\n",
    "        self.autoEncoder.compile(optimizer=optimizerChoice, loss=lossChoice)\n",
    "        print(\"AutoEncoder successfully created and compiled.\")\n",
    "        return\n",
    "\n",
    "    def getModels(self):\n",
    "        return self.encoder, self.decoder\n",
    "\n",
    "    def variation_loss(inputs, reconstruction, z_mean, z_log_var):\n",
    "        reconstruction_loss = layers.backend.mean(layers.backend.sum(layers.backend.square(inputs - reconstruction), axis = 1))\n",
    "\n",
    "        kl_loss = -0.8 * layers.backend.mean(layers.backend.sum(1 + z_log_var - layers.backend.square(z_mean)-layers.backend.exp(z_log_var), axis=1))\n",
    "        \n",
    "        return reconstruction_loss + kl_loss\n",
    "    \n",
    "    def createEncoderNetwork(self, numOfHiddenLayers, activationChoice='relu'):\n",
    "        '''Here is where we construct our nerual network that takes\n",
    "        in an image from the dataset, and gives us an output for our\n",
    "        \"bottleneck\".'''\n",
    "    \n",
    "        #neuralNetwork = models.Sequential()\n",
    "        \n",
    "        if self.flattened:\n",
    "            encoder_inputs = Input(shape=(self.shapeOfImage,))\n",
    "            x = (layers.Dense(self.shapeOfImage, activation=activationChoice, input_shape=(self.shapeOfImage,)))(encoder_inputs)\n",
    "            self.input_size=self.shapeOfImage\n",
    "            \n",
    "        else:\n",
    "            encoder_inputs = Input(shape=(self.shapeOfImage))\n",
    "            x = layers.Flatten()(encoder_inputs)\n",
    "            x = (layers.Dense(self.shapeOfImage[0]*self.shapeOfImage[1], activation=activationChoice, input_shape=(self.shapeOfImage)))(x)\n",
    "            self.input_size=self.shapeOfImage[0]*self.shapeOfImage[1]\n",
    "            \n",
    "        for i in range(numOfHiddenLayers):\n",
    "            x = (layers.Dense(int(self.input_size/(2 ** (i+1))), activation=activationChoice))(x)\n",
    "    \n",
    "        bottleNeckSize = (int(self.input_size/(2 **(numOfHiddenLayers+1))))\n",
    "        \n",
    "        self.bottleNeckSize=bottleNeckSize\n",
    "        \n",
    "        x = (layers.Dense(bottleNeckSize, activation=activationChoice))(x)\n",
    "\n",
    "        z_mean = layers.Dense(self.latent_dim, name=\"z_mean\")(x)\n",
    "        \n",
    "        z_log_var = layers.Dense(self.latent_dim, name=\"z_log_var\")(x)\n",
    "        \n",
    "        z = Sampling()([z_mean, z_log_var])\n",
    "        \n",
    "        return Model(encoder_inputs, [z_mean, z_log_var,z], name=\"encoder\"), bottleNeckSize\n",
    "        \n",
    "    def createDecoderNetwork(self, numOfHiddenLayers, bottleNeckSize, activationChoice='relu'):\n",
    "        '''Here is where we construct our nerual network that takes\n",
    "        in our output from the bottleneck found by our encoder, and\n",
    "        gives us an image as an output'''\n",
    "    \n",
    "        # neuralNetwork = models.Sequential()\n",
    "\n",
    "        decoder_inputs = (Input(shape=(self.latent_dim,)))\n",
    "\n",
    "        x = (layers.Dense(self.latent_dim, activation=activationChoice, input_shape=(self.latent_dim,)))(decoder_inputs)\n",
    "    \n",
    "        for i in range(numOfHiddenLayers):\n",
    "            print(f\"Hidden layer {i} size is :{int(bottleNeckSize*(2 ** (i+1)))}\")\n",
    "            x = (layers.Dense(int(bottleNeckSize*(2 ** (i+1))), activation=activationChoice))(x)\n",
    "        x = layers.Dense(self.shapeOfImage[0] * self.shapeOfImage[1], activation=activationChoice)(x)\n",
    "        decoder_outputs = layers.Dense(self.input_size, activation=activationChoice)(x)\n",
    "\n",
    "        if not self.flattened:\n",
    "            x = layers.Reshape((self.shapeOfImage[0], self.shapeOfImage[1], 1))(x)  # Include channel dimension\n",
    "\n",
    "        # Transposed convolution to generate the final output\n",
    "        decoder_outputs = layers.Conv2DTranspose(\n",
    "            1, 3, activation=\"sigmoid\", padding=\"same\", name=\"final_output\")(x)\n",
    "        \n",
    "        decoder = Model(decoder_inputs, decoder_outputs, name=\"decoder\")\n",
    "        print(\"Decoder created:\", decoder)  # Debugging output\n",
    "        return decoder\n",
    "\n",
    "    def getEncoderDecoderSummaries(self):\n",
    "        self.encoder.summary()\n",
    "        self.decoder.summary()\n",
    "        return\n",
    "\n",
    "    def getNetworkSummary(self):\n",
    "        self.autoEncoder.summary()\n",
    "\n",
    "    def train(self, data, numEpochs=10, batchSize=128):\n",
    "        self.history = self.autoEncoder.fit(data, data, epochs=numEpochs, batch_size=batchSize, verbose=0)\n",
    "        return self.history\n",
    "\n",
    "    def compareInputOutput(self, inputImage):\n",
    "        print(\"\\nInput Image:\\n\")\n",
    "        if self.flattened:\n",
    "            # Make a plot of the input image\n",
    "            plt.figure(1, figsize=(1,1))\n",
    "            plt.imshow(np.reshape(inputImage, (8,8)), cmap=plt.cm.gray_r, interpolation=\"nearest\")\n",
    "            plt.show()\n",
    "    \n",
    "            # Reformat the image data\n",
    "            inputData = np.expand_dims(inputImage, axis=0)\n",
    "    \n",
    "            # Get the outputing image data\n",
    "            picture = self.autoEncoder.predict(inputData)\n",
    "    \n",
    "            # Reshape the output so it works with the plot\n",
    "            reconstructedImage = np.reshape(picture, (8, 8))\n",
    "            \n",
    "        else:\n",
    "            plt.figure(1, figsize=(1,1))\n",
    "            plt.imshow(inputImage, cmap=plt.cm.gray_r, interpolation=\"nearest\")\n",
    "            plt.show()\n",
    "            inputData = np.expand_dims(inputImage, axis=0)\n",
    "            reconstructedImage= np.reshape(self.autoEncoder.predict(inputData), self.shapeOfImage)\n",
    "    \n",
    "        print(\"\\nOutput Image:\\n\")\n",
    "\n",
    "        #make a plot of the output image\n",
    "        plt.figure(1, figsize=(1,1))\n",
    "        plt.imshow(reconstructedImage, cmap=plt.cm.gray_r, interpolation=\"nearest\")\n",
    "        plt.show()\n",
    "\n",
    "        self.recon.append(np.mean((inputImage - reconstructedImage) ** 2))\n",
    "\n",
    "    def get_recon(self):\n",
    "        if self.recon==[]:\n",
    "            print(\"This list is empty run compareInputOutput to get values\")\n",
    "        return self.recon\n",
    "\n",
    "    def reset_recon(self):\n",
    "        self.recon=[]\n",
    "\n",
    "    def predict(self, inputImage):\n",
    "        if self.flattened:\n",
    "            inputData = np.expand_dims(inputImage, axis=0)\n",
    "            picture = self.autoEncoder.predict(inputData)\n",
    "            reconstructedImage = np.reshape(picture, (8, 8))\n",
    "            \n",
    "        else:\n",
    "            inputData = np.expand_dims(inputImage, axis=0)\n",
    "            reconstructedImage= np.reshape(self.autoEncoder.predict(inputData), self.shapeOfImage)\n",
    "        return reconstructedImage\n"
   ]
  },
  {
   "cell_type": "markdown",
   "metadata": {},
   "source": [
    "### Initialize and construct the model"
   ]
  },
  {
   "cell_type": "code",
   "execution_count": 35,
   "metadata": {},
   "outputs": [
    {
     "name": "stdout",
     "output_type": "stream",
     "text": [
      "Tensor(\"Placeholder:0\", shape=(None, 16), dtype=float32)\n"
     ]
    },
    {
     "name": "stderr",
     "output_type": "stream",
     "text": [
      "c:\\Users\\20mat\\personalProjects\\AutoEncoder\\.venv\\Lib\\site-packages\\keras\\src\\layers\\core\\dense.py:87: UserWarning: Do not pass an `input_shape`/`input_dim` argument to a layer. When using Sequential models, prefer using an `Input(shape)` object as the first layer in the model instead.\n",
      "  super().__init__(activity_regularizer=activity_regularizer, **kwargs)\n"
     ]
    },
    {
     "data": {
      "text/html": [
       "<pre style=\"white-space:pre;overflow-x:auto;line-height:normal;font-family:Menlo,'DejaVu Sans Mono',consolas,'Courier New',monospace\"><span style=\"font-weight: bold\">Model: \"encoder\"</span>\n",
       "</pre>\n"
      ],
      "text/plain": [
       "\u001b[1mModel: \"encoder\"\u001b[0m\n"
      ]
     },
     "metadata": {},
     "output_type": "display_data"
    },
    {
     "data": {
      "text/html": [
       "<pre style=\"white-space:pre;overflow-x:auto;line-height:normal;font-family:Menlo,'DejaVu Sans Mono',consolas,'Courier New',monospace\">┏━━━━━━━━━━━━━━━━━━━━━┳━━━━━━━━━━━━━━━━━━━┳━━━━━━━━━━━━┳━━━━━━━━━━━━━━━━━━━┓\n",
       "┃<span style=\"font-weight: bold\"> Layer (type)        </span>┃<span style=\"font-weight: bold\"> Output Shape      </span>┃<span style=\"font-weight: bold\">    Param # </span>┃<span style=\"font-weight: bold\"> Connected to      </span>┃\n",
       "┡━━━━━━━━━━━━━━━━━━━━━╇━━━━━━━━━━━━━━━━━━━╇━━━━━━━━━━━━╇━━━━━━━━━━━━━━━━━━━┩\n",
       "│ input_layer_8       │ (<span style=\"color: #00d7ff; text-decoration-color: #00d7ff\">None</span>, <span style=\"color: #00af00; text-decoration-color: #00af00\">28</span>, <span style=\"color: #00af00; text-decoration-color: #00af00\">28</span>)    │          <span style=\"color: #00af00; text-decoration-color: #00af00\">0</span> │ -                 │\n",
       "│ (<span style=\"color: #0087ff; text-decoration-color: #0087ff\">InputLayer</span>)        │                   │            │                   │\n",
       "├─────────────────────┼───────────────────┼────────────┼───────────────────┤\n",
       "│ flatten_2 (<span style=\"color: #0087ff; text-decoration-color: #0087ff\">Flatten</span>) │ (<span style=\"color: #00d7ff; text-decoration-color: #00d7ff\">None</span>, <span style=\"color: #00af00; text-decoration-color: #00af00\">784</span>)       │          <span style=\"color: #00af00; text-decoration-color: #00af00\">0</span> │ input_layer_8[<span style=\"color: #00af00; text-decoration-color: #00af00\">0</span>]… │\n",
       "├─────────────────────┼───────────────────┼────────────┼───────────────────┤\n",
       "│ dense_22 (<span style=\"color: #0087ff; text-decoration-color: #0087ff\">Dense</span>)    │ (<span style=\"color: #00d7ff; text-decoration-color: #00d7ff\">None</span>, <span style=\"color: #00af00; text-decoration-color: #00af00\">784</span>)       │    <span style=\"color: #00af00; text-decoration-color: #00af00\">615,440</span> │ flatten_2[<span style=\"color: #00af00; text-decoration-color: #00af00\">0</span>][<span style=\"color: #00af00; text-decoration-color: #00af00\">0</span>]   │\n",
       "├─────────────────────┼───────────────────┼────────────┼───────────────────┤\n",
       "│ dense_23 (<span style=\"color: #0087ff; text-decoration-color: #0087ff\">Dense</span>)    │ (<span style=\"color: #00d7ff; text-decoration-color: #00d7ff\">None</span>, <span style=\"color: #00af00; text-decoration-color: #00af00\">392</span>)       │    <span style=\"color: #00af00; text-decoration-color: #00af00\">307,720</span> │ dense_22[<span style=\"color: #00af00; text-decoration-color: #00af00\">0</span>][<span style=\"color: #00af00; text-decoration-color: #00af00\">0</span>]    │\n",
       "├─────────────────────┼───────────────────┼────────────┼───────────────────┤\n",
       "│ dense_24 (<span style=\"color: #0087ff; text-decoration-color: #0087ff\">Dense</span>)    │ (<span style=\"color: #00d7ff; text-decoration-color: #00d7ff\">None</span>, <span style=\"color: #00af00; text-decoration-color: #00af00\">196</span>)       │     <span style=\"color: #00af00; text-decoration-color: #00af00\">77,028</span> │ dense_23[<span style=\"color: #00af00; text-decoration-color: #00af00\">0</span>][<span style=\"color: #00af00; text-decoration-color: #00af00\">0</span>]    │\n",
       "├─────────────────────┼───────────────────┼────────────┼───────────────────┤\n",
       "│ dense_25 (<span style=\"color: #0087ff; text-decoration-color: #0087ff\">Dense</span>)    │ (<span style=\"color: #00d7ff; text-decoration-color: #00d7ff\">None</span>, <span style=\"color: #00af00; text-decoration-color: #00af00\">98</span>)        │     <span style=\"color: #00af00; text-decoration-color: #00af00\">19,306</span> │ dense_24[<span style=\"color: #00af00; text-decoration-color: #00af00\">0</span>][<span style=\"color: #00af00; text-decoration-color: #00af00\">0</span>]    │\n",
       "├─────────────────────┼───────────────────┼────────────┼───────────────────┤\n",
       "│ dense_26 (<span style=\"color: #0087ff; text-decoration-color: #0087ff\">Dense</span>)    │ (<span style=\"color: #00d7ff; text-decoration-color: #00d7ff\">None</span>, <span style=\"color: #00af00; text-decoration-color: #00af00\">49</span>)        │      <span style=\"color: #00af00; text-decoration-color: #00af00\">4,851</span> │ dense_25[<span style=\"color: #00af00; text-decoration-color: #00af00\">0</span>][<span style=\"color: #00af00; text-decoration-color: #00af00\">0</span>]    │\n",
       "├─────────────────────┼───────────────────┼────────────┼───────────────────┤\n",
       "│ z_mean (<span style=\"color: #0087ff; text-decoration-color: #0087ff\">Dense</span>)      │ (<span style=\"color: #00d7ff; text-decoration-color: #00d7ff\">None</span>, <span style=\"color: #00af00; text-decoration-color: #00af00\">16</span>)        │        <span style=\"color: #00af00; text-decoration-color: #00af00\">800</span> │ dense_26[<span style=\"color: #00af00; text-decoration-color: #00af00\">0</span>][<span style=\"color: #00af00; text-decoration-color: #00af00\">0</span>]    │\n",
       "├─────────────────────┼───────────────────┼────────────┼───────────────────┤\n",
       "│ z_log_var (<span style=\"color: #0087ff; text-decoration-color: #0087ff\">Dense</span>)   │ (<span style=\"color: #00d7ff; text-decoration-color: #00d7ff\">None</span>, <span style=\"color: #00af00; text-decoration-color: #00af00\">16</span>)        │        <span style=\"color: #00af00; text-decoration-color: #00af00\">800</span> │ dense_26[<span style=\"color: #00af00; text-decoration-color: #00af00\">0</span>][<span style=\"color: #00af00; text-decoration-color: #00af00\">0</span>]    │\n",
       "├─────────────────────┼───────────────────┼────────────┼───────────────────┤\n",
       "│ sampling_2          │ (<span style=\"color: #00d7ff; text-decoration-color: #00d7ff\">None</span>, <span style=\"color: #00af00; text-decoration-color: #00af00\">16</span>)        │          <span style=\"color: #00af00; text-decoration-color: #00af00\">0</span> │ z_mean[<span style=\"color: #00af00; text-decoration-color: #00af00\">0</span>][<span style=\"color: #00af00; text-decoration-color: #00af00\">0</span>],     │\n",
       "│ (<span style=\"color: #0087ff; text-decoration-color: #0087ff\">Sampling</span>)          │                   │            │ z_log_var[<span style=\"color: #00af00; text-decoration-color: #00af00\">0</span>][<span style=\"color: #00af00; text-decoration-color: #00af00\">0</span>]   │\n",
       "└─────────────────────┴───────────────────┴────────────┴───────────────────┘\n",
       "</pre>\n"
      ],
      "text/plain": [
       "┏━━━━━━━━━━━━━━━━━━━━━┳━━━━━━━━━━━━━━━━━━━┳━━━━━━━━━━━━┳━━━━━━━━━━━━━━━━━━━┓\n",
       "┃\u001b[1m \u001b[0m\u001b[1mLayer (type)       \u001b[0m\u001b[1m \u001b[0m┃\u001b[1m \u001b[0m\u001b[1mOutput Shape     \u001b[0m\u001b[1m \u001b[0m┃\u001b[1m \u001b[0m\u001b[1m   Param #\u001b[0m\u001b[1m \u001b[0m┃\u001b[1m \u001b[0m\u001b[1mConnected to     \u001b[0m\u001b[1m \u001b[0m┃\n",
       "┡━━━━━━━━━━━━━━━━━━━━━╇━━━━━━━━━━━━━━━━━━━╇━━━━━━━━━━━━╇━━━━━━━━━━━━━━━━━━━┩\n",
       "│ input_layer_8       │ (\u001b[38;5;45mNone\u001b[0m, \u001b[38;5;34m28\u001b[0m, \u001b[38;5;34m28\u001b[0m)    │          \u001b[38;5;34m0\u001b[0m │ -                 │\n",
       "│ (\u001b[38;5;33mInputLayer\u001b[0m)        │                   │            │                   │\n",
       "├─────────────────────┼───────────────────┼────────────┼───────────────────┤\n",
       "│ flatten_2 (\u001b[38;5;33mFlatten\u001b[0m) │ (\u001b[38;5;45mNone\u001b[0m, \u001b[38;5;34m784\u001b[0m)       │          \u001b[38;5;34m0\u001b[0m │ input_layer_8[\u001b[38;5;34m0\u001b[0m]… │\n",
       "├─────────────────────┼───────────────────┼────────────┼───────────────────┤\n",
       "│ dense_22 (\u001b[38;5;33mDense\u001b[0m)    │ (\u001b[38;5;45mNone\u001b[0m, \u001b[38;5;34m784\u001b[0m)       │    \u001b[38;5;34m615,440\u001b[0m │ flatten_2[\u001b[38;5;34m0\u001b[0m][\u001b[38;5;34m0\u001b[0m]   │\n",
       "├─────────────────────┼───────────────────┼────────────┼───────────────────┤\n",
       "│ dense_23 (\u001b[38;5;33mDense\u001b[0m)    │ (\u001b[38;5;45mNone\u001b[0m, \u001b[38;5;34m392\u001b[0m)       │    \u001b[38;5;34m307,720\u001b[0m │ dense_22[\u001b[38;5;34m0\u001b[0m][\u001b[38;5;34m0\u001b[0m]    │\n",
       "├─────────────────────┼───────────────────┼────────────┼───────────────────┤\n",
       "│ dense_24 (\u001b[38;5;33mDense\u001b[0m)    │ (\u001b[38;5;45mNone\u001b[0m, \u001b[38;5;34m196\u001b[0m)       │     \u001b[38;5;34m77,028\u001b[0m │ dense_23[\u001b[38;5;34m0\u001b[0m][\u001b[38;5;34m0\u001b[0m]    │\n",
       "├─────────────────────┼───────────────────┼────────────┼───────────────────┤\n",
       "│ dense_25 (\u001b[38;5;33mDense\u001b[0m)    │ (\u001b[38;5;45mNone\u001b[0m, \u001b[38;5;34m98\u001b[0m)        │     \u001b[38;5;34m19,306\u001b[0m │ dense_24[\u001b[38;5;34m0\u001b[0m][\u001b[38;5;34m0\u001b[0m]    │\n",
       "├─────────────────────┼───────────────────┼────────────┼───────────────────┤\n",
       "│ dense_26 (\u001b[38;5;33mDense\u001b[0m)    │ (\u001b[38;5;45mNone\u001b[0m, \u001b[38;5;34m49\u001b[0m)        │      \u001b[38;5;34m4,851\u001b[0m │ dense_25[\u001b[38;5;34m0\u001b[0m][\u001b[38;5;34m0\u001b[0m]    │\n",
       "├─────────────────────┼───────────────────┼────────────┼───────────────────┤\n",
       "│ z_mean (\u001b[38;5;33mDense\u001b[0m)      │ (\u001b[38;5;45mNone\u001b[0m, \u001b[38;5;34m16\u001b[0m)        │        \u001b[38;5;34m800\u001b[0m │ dense_26[\u001b[38;5;34m0\u001b[0m][\u001b[38;5;34m0\u001b[0m]    │\n",
       "├─────────────────────┼───────────────────┼────────────┼───────────────────┤\n",
       "│ z_log_var (\u001b[38;5;33mDense\u001b[0m)   │ (\u001b[38;5;45mNone\u001b[0m, \u001b[38;5;34m16\u001b[0m)        │        \u001b[38;5;34m800\u001b[0m │ dense_26[\u001b[38;5;34m0\u001b[0m][\u001b[38;5;34m0\u001b[0m]    │\n",
       "├─────────────────────┼───────────────────┼────────────┼───────────────────┤\n",
       "│ sampling_2          │ (\u001b[38;5;45mNone\u001b[0m, \u001b[38;5;34m16\u001b[0m)        │          \u001b[38;5;34m0\u001b[0m │ z_mean[\u001b[38;5;34m0\u001b[0m][\u001b[38;5;34m0\u001b[0m],     │\n",
       "│ (\u001b[38;5;33mSampling\u001b[0m)          │                   │            │ z_log_var[\u001b[38;5;34m0\u001b[0m][\u001b[38;5;34m0\u001b[0m]   │\n",
       "└─────────────────────┴───────────────────┴────────────┴───────────────────┘\n"
      ]
     },
     "metadata": {},
     "output_type": "display_data"
    },
    {
     "data": {
      "text/html": [
       "<pre style=\"white-space:pre;overflow-x:auto;line-height:normal;font-family:Menlo,'DejaVu Sans Mono',consolas,'Courier New',monospace\"><span style=\"font-weight: bold\"> Total params: </span><span style=\"color: #00af00; text-decoration-color: #00af00\">1,025,945</span> (3.91 MB)\n",
       "</pre>\n"
      ],
      "text/plain": [
       "\u001b[1m Total params: \u001b[0m\u001b[38;5;34m1,025,945\u001b[0m (3.91 MB)\n"
      ]
     },
     "metadata": {},
     "output_type": "display_data"
    },
    {
     "data": {
      "text/html": [
       "<pre style=\"white-space:pre;overflow-x:auto;line-height:normal;font-family:Menlo,'DejaVu Sans Mono',consolas,'Courier New',monospace\"><span style=\"font-weight: bold\"> Trainable params: </span><span style=\"color: #00af00; text-decoration-color: #00af00\">1,025,945</span> (3.91 MB)\n",
       "</pre>\n"
      ],
      "text/plain": [
       "\u001b[1m Trainable params: \u001b[0m\u001b[38;5;34m1,025,945\u001b[0m (3.91 MB)\n"
      ]
     },
     "metadata": {},
     "output_type": "display_data"
    },
    {
     "data": {
      "text/html": [
       "<pre style=\"white-space:pre;overflow-x:auto;line-height:normal;font-family:Menlo,'DejaVu Sans Mono',consolas,'Courier New',monospace\"><span style=\"font-weight: bold\"> Non-trainable params: </span><span style=\"color: #00af00; text-decoration-color: #00af00\">0</span> (0.00 B)\n",
       "</pre>\n"
      ],
      "text/plain": [
       "\u001b[1m Non-trainable params: \u001b[0m\u001b[38;5;34m0\u001b[0m (0.00 B)\n"
      ]
     },
     "metadata": {},
     "output_type": "display_data"
    },
    {
     "name": "stdout",
     "output_type": "stream",
     "text": [
      "Hidden layer 0 size is :98\n",
      "Hidden layer 1 size is :196\n",
      "Hidden layer 2 size is :392\n",
      "Decoder created: <Functional name=decoder, built=True>\n"
     ]
    },
    {
     "data": {
      "text/html": [
       "<pre style=\"white-space:pre;overflow-x:auto;line-height:normal;font-family:Menlo,'DejaVu Sans Mono',consolas,'Courier New',monospace\"><span style=\"font-weight: bold\">Model: \"decoder\"</span>\n",
       "</pre>\n"
      ],
      "text/plain": [
       "\u001b[1mModel: \"decoder\"\u001b[0m\n"
      ]
     },
     "metadata": {},
     "output_type": "display_data"
    },
    {
     "data": {
      "text/html": [
       "<pre style=\"white-space:pre;overflow-x:auto;line-height:normal;font-family:Menlo,'DejaVu Sans Mono',consolas,'Courier New',monospace\">┏━━━━━━━━━━━━━━━━━━━━━━━━━━━━━━━━━┳━━━━━━━━━━━━━━━━━━━━━━━━┳━━━━━━━━━━━━━━━┓\n",
       "┃<span style=\"font-weight: bold\"> Layer (type)                    </span>┃<span style=\"font-weight: bold\"> Output Shape           </span>┃<span style=\"font-weight: bold\">       Param # </span>┃\n",
       "┡━━━━━━━━━━━━━━━━━━━━━━━━━━━━━━━━━╇━━━━━━━━━━━━━━━━━━━━━━━━╇━━━━━━━━━━━━━━━┩\n",
       "│ input_layer_9 (<span style=\"color: #0087ff; text-decoration-color: #0087ff\">InputLayer</span>)      │ (<span style=\"color: #00d7ff; text-decoration-color: #00d7ff\">None</span>, <span style=\"color: #00af00; text-decoration-color: #00af00\">16</span>)             │             <span style=\"color: #00af00; text-decoration-color: #00af00\">0</span> │\n",
       "├─────────────────────────────────┼────────────────────────┼───────────────┤\n",
       "│ dense_27 (<span style=\"color: #0087ff; text-decoration-color: #0087ff\">Dense</span>)                │ (<span style=\"color: #00d7ff; text-decoration-color: #00d7ff\">None</span>, <span style=\"color: #00af00; text-decoration-color: #00af00\">16</span>)             │           <span style=\"color: #00af00; text-decoration-color: #00af00\">272</span> │\n",
       "├─────────────────────────────────┼────────────────────────┼───────────────┤\n",
       "│ dense_28 (<span style=\"color: #0087ff; text-decoration-color: #0087ff\">Dense</span>)                │ (<span style=\"color: #00d7ff; text-decoration-color: #00d7ff\">None</span>, <span style=\"color: #00af00; text-decoration-color: #00af00\">98</span>)             │         <span style=\"color: #00af00; text-decoration-color: #00af00\">1,666</span> │\n",
       "├─────────────────────────────────┼────────────────────────┼───────────────┤\n",
       "│ dense_29 (<span style=\"color: #0087ff; text-decoration-color: #0087ff\">Dense</span>)                │ (<span style=\"color: #00d7ff; text-decoration-color: #00d7ff\">None</span>, <span style=\"color: #00af00; text-decoration-color: #00af00\">196</span>)            │        <span style=\"color: #00af00; text-decoration-color: #00af00\">19,404</span> │\n",
       "├─────────────────────────────────┼────────────────────────┼───────────────┤\n",
       "│ dense_30 (<span style=\"color: #0087ff; text-decoration-color: #0087ff\">Dense</span>)                │ (<span style=\"color: #00d7ff; text-decoration-color: #00d7ff\">None</span>, <span style=\"color: #00af00; text-decoration-color: #00af00\">392</span>)            │        <span style=\"color: #00af00; text-decoration-color: #00af00\">77,224</span> │\n",
       "├─────────────────────────────────┼────────────────────────┼───────────────┤\n",
       "│ dense_31 (<span style=\"color: #0087ff; text-decoration-color: #0087ff\">Dense</span>)                │ (<span style=\"color: #00d7ff; text-decoration-color: #00d7ff\">None</span>, <span style=\"color: #00af00; text-decoration-color: #00af00\">784</span>)            │       <span style=\"color: #00af00; text-decoration-color: #00af00\">308,112</span> │\n",
       "├─────────────────────────────────┼────────────────────────┼───────────────┤\n",
       "│ reshape_2 (<span style=\"color: #0087ff; text-decoration-color: #0087ff\">Reshape</span>)             │ (<span style=\"color: #00d7ff; text-decoration-color: #00d7ff\">None</span>, <span style=\"color: #00af00; text-decoration-color: #00af00\">28</span>, <span style=\"color: #00af00; text-decoration-color: #00af00\">28</span>, <span style=\"color: #00af00; text-decoration-color: #00af00\">1</span>)      │             <span style=\"color: #00af00; text-decoration-color: #00af00\">0</span> │\n",
       "├─────────────────────────────────┼────────────────────────┼───────────────┤\n",
       "│ final_output (<span style=\"color: #0087ff; text-decoration-color: #0087ff\">Conv2DTranspose</span>)  │ (<span style=\"color: #00d7ff; text-decoration-color: #00d7ff\">None</span>, <span style=\"color: #00af00; text-decoration-color: #00af00\">28</span>, <span style=\"color: #00af00; text-decoration-color: #00af00\">28</span>, <span style=\"color: #00af00; text-decoration-color: #00af00\">1</span>)      │            <span style=\"color: #00af00; text-decoration-color: #00af00\">10</span> │\n",
       "└─────────────────────────────────┴────────────────────────┴───────────────┘\n",
       "</pre>\n"
      ],
      "text/plain": [
       "┏━━━━━━━━━━━━━━━━━━━━━━━━━━━━━━━━━┳━━━━━━━━━━━━━━━━━━━━━━━━┳━━━━━━━━━━━━━━━┓\n",
       "┃\u001b[1m \u001b[0m\u001b[1mLayer (type)                   \u001b[0m\u001b[1m \u001b[0m┃\u001b[1m \u001b[0m\u001b[1mOutput Shape          \u001b[0m\u001b[1m \u001b[0m┃\u001b[1m \u001b[0m\u001b[1m      Param #\u001b[0m\u001b[1m \u001b[0m┃\n",
       "┡━━━━━━━━━━━━━━━━━━━━━━━━━━━━━━━━━╇━━━━━━━━━━━━━━━━━━━━━━━━╇━━━━━━━━━━━━━━━┩\n",
       "│ input_layer_9 (\u001b[38;5;33mInputLayer\u001b[0m)      │ (\u001b[38;5;45mNone\u001b[0m, \u001b[38;5;34m16\u001b[0m)             │             \u001b[38;5;34m0\u001b[0m │\n",
       "├─────────────────────────────────┼────────────────────────┼───────────────┤\n",
       "│ dense_27 (\u001b[38;5;33mDense\u001b[0m)                │ (\u001b[38;5;45mNone\u001b[0m, \u001b[38;5;34m16\u001b[0m)             │           \u001b[38;5;34m272\u001b[0m │\n",
       "├─────────────────────────────────┼────────────────────────┼───────────────┤\n",
       "│ dense_28 (\u001b[38;5;33mDense\u001b[0m)                │ (\u001b[38;5;45mNone\u001b[0m, \u001b[38;5;34m98\u001b[0m)             │         \u001b[38;5;34m1,666\u001b[0m │\n",
       "├─────────────────────────────────┼────────────────────────┼───────────────┤\n",
       "│ dense_29 (\u001b[38;5;33mDense\u001b[0m)                │ (\u001b[38;5;45mNone\u001b[0m, \u001b[38;5;34m196\u001b[0m)            │        \u001b[38;5;34m19,404\u001b[0m │\n",
       "├─────────────────────────────────┼────────────────────────┼───────────────┤\n",
       "│ dense_30 (\u001b[38;5;33mDense\u001b[0m)                │ (\u001b[38;5;45mNone\u001b[0m, \u001b[38;5;34m392\u001b[0m)            │        \u001b[38;5;34m77,224\u001b[0m │\n",
       "├─────────────────────────────────┼────────────────────────┼───────────────┤\n",
       "│ dense_31 (\u001b[38;5;33mDense\u001b[0m)                │ (\u001b[38;5;45mNone\u001b[0m, \u001b[38;5;34m784\u001b[0m)            │       \u001b[38;5;34m308,112\u001b[0m │\n",
       "├─────────────────────────────────┼────────────────────────┼───────────────┤\n",
       "│ reshape_2 (\u001b[38;5;33mReshape\u001b[0m)             │ (\u001b[38;5;45mNone\u001b[0m, \u001b[38;5;34m28\u001b[0m, \u001b[38;5;34m28\u001b[0m, \u001b[38;5;34m1\u001b[0m)      │             \u001b[38;5;34m0\u001b[0m │\n",
       "├─────────────────────────────────┼────────────────────────┼───────────────┤\n",
       "│ final_output (\u001b[38;5;33mConv2DTranspose\u001b[0m)  │ (\u001b[38;5;45mNone\u001b[0m, \u001b[38;5;34m28\u001b[0m, \u001b[38;5;34m28\u001b[0m, \u001b[38;5;34m1\u001b[0m)      │            \u001b[38;5;34m10\u001b[0m │\n",
       "└─────────────────────────────────┴────────────────────────┴───────────────┘\n"
      ]
     },
     "metadata": {},
     "output_type": "display_data"
    },
    {
     "data": {
      "text/html": [
       "<pre style=\"white-space:pre;overflow-x:auto;line-height:normal;font-family:Menlo,'DejaVu Sans Mono',consolas,'Courier New',monospace\"><span style=\"font-weight: bold\"> Total params: </span><span style=\"color: #00af00; text-decoration-color: #00af00\">406,688</span> (1.55 MB)\n",
       "</pre>\n"
      ],
      "text/plain": [
       "\u001b[1m Total params: \u001b[0m\u001b[38;5;34m406,688\u001b[0m (1.55 MB)\n"
      ]
     },
     "metadata": {},
     "output_type": "display_data"
    },
    {
     "data": {
      "text/html": [
       "<pre style=\"white-space:pre;overflow-x:auto;line-height:normal;font-family:Menlo,'DejaVu Sans Mono',consolas,'Courier New',monospace\"><span style=\"font-weight: bold\"> Trainable params: </span><span style=\"color: #00af00; text-decoration-color: #00af00\">406,688</span> (1.55 MB)\n",
       "</pre>\n"
      ],
      "text/plain": [
       "\u001b[1m Trainable params: \u001b[0m\u001b[38;5;34m406,688\u001b[0m (1.55 MB)\n"
      ]
     },
     "metadata": {},
     "output_type": "display_data"
    },
    {
     "data": {
      "text/html": [
       "<pre style=\"white-space:pre;overflow-x:auto;line-height:normal;font-family:Menlo,'DejaVu Sans Mono',consolas,'Courier New',monospace\"><span style=\"font-weight: bold\"> Non-trainable params: </span><span style=\"color: #00af00; text-decoration-color: #00af00\">0</span> (0.00 B)\n",
       "</pre>\n"
      ],
      "text/plain": [
       "\u001b[1m Non-trainable params: \u001b[0m\u001b[38;5;34m0\u001b[0m (0.00 B)\n"
      ]
     },
     "metadata": {},
     "output_type": "display_data"
    },
    {
     "name": "stdout",
     "output_type": "stream",
     "text": [
      "AutoEncoder successfully created and compiled.\n"
     ]
    }
   ],
   "source": [
    "var_autoEncoder = Var_AutoEncoder((28,28), flattened=False, latent_dim=16)\n",
    "var_autoEncoder.constructModel(numOfHiddenLayers=3)"
   ]
  },
  {
   "cell_type": "markdown",
   "metadata": {},
   "source": [
    "### Compile the model and train"
   ]
  },
  {
   "cell_type": "code",
   "execution_count": 36,
   "metadata": {},
   "outputs": [
    {
     "name": "stdout",
     "output_type": "stream",
     "text": [
      "Epoch 1/10\n",
      "Tensor(\"encoder_1/z_mean_1/BiasAdd:0\", shape=(None, 16), dtype=float32)\n",
      "Tensor(\"encoder_1/z_mean_1/BiasAdd:0\", shape=(None, 16), dtype=float32)\n",
      "\u001b[1m547/547\u001b[0m \u001b[32m━━━━━━━━━━━━━━━━━━━━\u001b[0m\u001b[37m\u001b[0m \u001b[1m18s\u001b[0m 24ms/step - kl_loss: 151.1188 - loss: 205.8000 - reconstruction_loss: 205.6489\n",
      "Epoch 2/10\n",
      "\u001b[1m547/547\u001b[0m \u001b[32m━━━━━━━━━━━━━━━━━━━━\u001b[0m\u001b[37m\u001b[0m \u001b[1m13s\u001b[0m 23ms/step - kl_loss: 276.7094 - loss: 132.0242 - reconstruction_loss: 131.7475\n",
      "Epoch 3/10\n",
      "\u001b[1m547/547\u001b[0m \u001b[32m━━━━━━━━━━━━━━━━━━━━\u001b[0m\u001b[37m\u001b[0m \u001b[1m11s\u001b[0m 20ms/step - kl_loss: 294.2639 - loss: 112.7600 - reconstruction_loss: 112.4658\n",
      "Epoch 4/10\n",
      "\u001b[1m547/547\u001b[0m \u001b[32m━━━━━━━━━━━━━━━━━━━━\u001b[0m\u001b[37m\u001b[0m \u001b[1m11s\u001b[0m 20ms/step - kl_loss: 280.6044 - loss: 103.6299 - reconstruction_loss: 103.3493\n",
      "Epoch 5/10\n",
      "\u001b[1m547/547\u001b[0m \u001b[32m━━━━━━━━━━━━━━━━━━━━\u001b[0m\u001b[37m\u001b[0m \u001b[1m11s\u001b[0m 20ms/step - kl_loss: 266.0504 - loss: 97.8853 - reconstruction_loss: 97.6192\n",
      "Epoch 6/10\n",
      "\u001b[1m547/547\u001b[0m \u001b[32m━━━━━━━━━━━━━━━━━━━━\u001b[0m\u001b[37m\u001b[0m \u001b[1m11s\u001b[0m 20ms/step - kl_loss: 256.1173 - loss: 92.7237 - reconstruction_loss: 92.4676\n",
      "Epoch 7/10\n",
      "\u001b[1m547/547\u001b[0m \u001b[32m━━━━━━━━━━━━━━━━━━━━\u001b[0m\u001b[37m\u001b[0m \u001b[1m11s\u001b[0m 20ms/step - kl_loss: 241.3223 - loss: 89.2241 - reconstruction_loss: 88.9828\n",
      "Epoch 8/10\n",
      "\u001b[1m547/547\u001b[0m \u001b[32m━━━━━━━━━━━━━━━━━━━━\u001b[0m\u001b[37m\u001b[0m \u001b[1m11s\u001b[0m 20ms/step - kl_loss: 226.9581 - loss: 86.7502 - reconstruction_loss: 86.5232\n",
      "Epoch 9/10\n",
      "\u001b[1m547/547\u001b[0m \u001b[32m━━━━━━━━━━━━━━━━━━━━\u001b[0m\u001b[37m\u001b[0m \u001b[1m11s\u001b[0m 20ms/step - kl_loss: 218.3926 - loss: 84.5774 - reconstruction_loss: 84.3590\n",
      "Epoch 10/10\n",
      "\u001b[1m547/547\u001b[0m \u001b[32m━━━━━━━━━━━━━━━━━━━━\u001b[0m\u001b[37m\u001b[0m \u001b[1m11s\u001b[0m 20ms/step - kl_loss: 209.1694 - loss: 82.8920 - reconstruction_loss: 82.6829\n"
     ]
    },
    {
     "data": {
      "text/plain": [
       "<keras.src.callbacks.history.History at 0x2eccba73150>"
      ]
     },
     "execution_count": 36,
     "metadata": {},
     "output_type": "execute_result"
    }
   ],
   "source": [
    "encoder, decoder = var_autoEncoder.getModels()\n",
    "\n",
    "#This code is from citation 2)\n",
    "(x_train, _), (x_test, _) = keras.datasets.mnist.load_data()\n",
    "mnist_digits = np.concatenate([x_train, x_test], axis=0)\n",
    "mnist_digits = np.expand_dims(mnist_digits, -1).astype(\"float32\") / 255\n",
    "\n",
    "vae = VAE(encoder, decoder)\n",
    "vae.compile(optimizer=keras.optimizers.Adam(learning_rate=0.001))\n",
    "vae.fit(mnist_digits, epochs=10, batch_size=128)"
   ]
  },
  {
   "cell_type": "markdown",
   "metadata": {},
   "source": [
    "### Compare the input and the output"
   ]
  },
  {
   "cell_type": "code",
   "execution_count": 37,
   "metadata": {},
   "outputs": [
    {
     "name": "stdout",
     "output_type": "stream",
     "text": [
      "\n",
      "Input Image:\n",
      "\n"
     ]
    },
    {
     "data": {
      "image/png": "[encoded data removed]",
      "text/plain": [
       "<Figure size 100x100 with 1 Axes>"
      ]
     },
     "metadata": {},
     "output_type": "display_data"
    },
    {
     "name": "stdout",
     "output_type": "stream",
     "text": [
      "Tensor(\"autoEncoder_1/z_mean_1/BiasAdd:0\", shape=(1, 16), dtype=float32)\n",
      "\u001b[1m1/1\u001b[0m \u001b[32m━━━━━━━━━━━━━━━━━━━━\u001b[0m\u001b[37m\u001b[0m \u001b[1m0s\u001b[0m 226ms/step\n",
      "\n",
      "Output Image:\n",
      "\n"
     ]
    },
    {
     "data": {
      "image/png": "[encoded data removed]",
      "text/plain": [
       "<Figure size 100x100 with 1 Axes>"
      ]
     },
     "metadata": {},
     "output_type": "display_data"
    },
    {
     "name": "stdout",
     "output_type": "stream",
     "text": [
      "\n",
      "Input Image:\n",
      "\n"
     ]
    },
    {
     "data": {
      "image/png": "[encoded data removed]",
      "text/plain": [
       "<Figure size 100x100 with 1 Axes>"
      ]
     },
     "metadata": {},
     "output_type": "display_data"
    },
    {
     "name": "stdout",
     "output_type": "stream",
     "text": [
      "\u001b[1m1/1\u001b[0m \u001b[32m━━━━━━━━━━━━━━━━━━━━\u001b[0m\u001b[37m\u001b[0m \u001b[1m0s\u001b[0m 41ms/step\n",
      "\n",
      "Output Image:\n",
      "\n"
     ]
    },
    {
     "data": {
      "image/png": "[encoded data removed]",
      "text/plain": [
       "<Figure size 100x100 with 1 Axes>"
      ]
     },
     "metadata": {},
     "output_type": "display_data"
    },
    {
     "name": "stdout",
     "output_type": "stream",
     "text": [
      "\n",
      "Input Image:\n",
      "\n"
     ]
    },
    {
     "data": {
      "image/png": "[encoded data removed]",
      "text/plain": [
       "<Figure size 100x100 with 1 Axes>"
      ]
     },
     "metadata": {},
     "output_type": "display_data"
    },
    {
     "name": "stdout",
     "output_type": "stream",
     "text": [
      "\u001b[1m1/1\u001b[0m \u001b[32m━━━━━━━━━━━━━━━━━━━━\u001b[0m\u001b[37m\u001b[0m \u001b[1m0s\u001b[0m 38ms/step\n",
      "\n",
      "Output Image:\n",
      "\n"
     ]
    },
    {
     "data": {
      "image/png": "[encoded data removed]",
      "text/plain": [
       "<Figure size 100x100 with 1 Axes>"
      ]
     },
     "metadata": {},
     "output_type": "display_data"
    },
    {
     "name": "stdout",
     "output_type": "stream",
     "text": [
      "\n",
      "Input Image:\n",
      "\n"
     ]
    },
    {
     "data": {
      "image/png": "[encoded data removed]",
      "text/plain": [
       "<Figure size 100x100 with 1 Axes>"
      ]
     },
     "metadata": {},
     "output_type": "display_data"
    },
    {
     "name": "stdout",
     "output_type": "stream",
     "text": [
      "\u001b[1m1/1\u001b[0m \u001b[32m━━━━━━━━━━━━━━━━━━━━\u001b[0m\u001b[37m\u001b[0m \u001b[1m0s\u001b[0m 39ms/step\n",
      "\n",
      "Output Image:\n",
      "\n"
     ]
    },
    {
     "data": {
      "image/png": "[encoded data removed]",
      "text/plain": [
       "<Figure size 100x100 with 1 Axes>"
      ]
     },
     "metadata": {},
     "output_type": "display_data"
    },
    {
     "name": "stdout",
     "output_type": "stream",
     "text": [
      "\n",
      "Input Image:\n",
      "\n"
     ]
    },
    {
     "data": {
      "image/png": "[encoded data removed]",
      "text/plain": [
       "<Figure size 100x100 with 1 Axes>"
      ]
     },
     "metadata": {},
     "output_type": "display_data"
    },
    {
     "name": "stdout",
     "output_type": "stream",
     "text": [
      "\u001b[1m1/1\u001b[0m \u001b[32m━━━━━━━━━━━━━━━━━━━━\u001b[0m\u001b[37m\u001b[0m \u001b[1m0s\u001b[0m 39ms/step\n",
      "\n",
      "Output Image:\n",
      "\n"
     ]
    },
    {
     "data": {
      "image/png": "[encoded data removed]",
      "text/plain": [
       "<Figure size 100x100 with 1 Axes>"
      ]
     },
     "metadata": {},
     "output_type": "display_data"
    },
    {
     "name": "stdout",
     "output_type": "stream",
     "text": [
      "\n",
      "Input Image:\n",
      "\n"
     ]
    },
    {
     "data": {
      "image/png": "[encoded data removed]",
      "text/plain": [
       "<Figure size 100x100 with 1 Axes>"
      ]
     },
     "metadata": {},
     "output_type": "display_data"
    },
    {
     "name": "stdout",
     "output_type": "stream",
     "text": [
      "\u001b[1m1/1\u001b[0m \u001b[32m━━━━━━━━━━━━━━━━━━━━\u001b[0m\u001b[37m\u001b[0m \u001b[1m0s\u001b[0m 37ms/step\n",
      "\n",
      "Output Image:\n",
      "\n"
     ]
    },
    {
     "data": {
      "image/png": "[encoded data removed]",
      "text/plain": [
       "<Figure size 100x100 with 1 Axes>"
      ]
     },
     "metadata": {},
     "output_type": "display_data"
    },
    {
     "name": "stdout",
     "output_type": "stream",
     "text": [
      "\n",
      "Input Image:\n",
      "\n"
     ]
    },
    {
     "data": {
      "image/png": "[encoded data removed]",
      "text/plain": [
       "<Figure size 100x100 with 1 Axes>"
      ]
     },
     "metadata": {},
     "output_type": "display_data"
    },
    {
     "name": "stdout",
     "output_type": "stream",
     "text": [
      "\u001b[1m1/1\u001b[0m \u001b[32m━━━━━━━━━━━━━━━━━━━━\u001b[0m\u001b[37m\u001b[0m \u001b[1m0s\u001b[0m 37ms/step\n",
      "\n",
      "Output Image:\n",
      "\n"
     ]
    },
    {
     "data": {
      "image/png": "[encoded data removed]",
      "text/plain": [
       "<Figure size 100x100 with 1 Axes>"
      ]
     },
     "metadata": {},
     "output_type": "display_data"
    },
    {
     "name": "stdout",
     "output_type": "stream",
     "text": [
      "\n",
      "Input Image:\n",
      "\n"
     ]
    },
    {
     "data": {
      "image/png": "[encoded data removed]",
      "text/plain": [
       "<Figure size 100x100 with 1 Axes>"
      ]
     },
     "metadata": {},
     "output_type": "display_data"
    },
    {
     "name": "stdout",
     "output_type": "stream",
     "text": [
      "\u001b[1m1/1\u001b[0m \u001b[32m━━━━━━━━━━━━━━━━━━━━\u001b[0m\u001b[37m\u001b[0m \u001b[1m0s\u001b[0m 41ms/step\n",
      "\n",
      "Output Image:\n",
      "\n"
     ]
    },
    {
     "data": {
      "image/png": "[encoded data removed]",
      "text/plain": [
       "<Figure size 100x100 with 1 Axes>"
      ]
     },
     "metadata": {},
     "output_type": "display_data"
    },
    {
     "name": "stdout",
     "output_type": "stream",
     "text": [
      "\n",
      "Input Image:\n",
      "\n"
     ]
    },
    {
     "data": {
      "image/png": "[encoded data removed]",
      "text/plain": [
       "<Figure size 100x100 with 1 Axes>"
      ]
     },
     "metadata": {},
     "output_type": "display_data"
    },
    {
     "name": "stdout",
     "output_type": "stream",
     "text": [
      "\u001b[1m1/1\u001b[0m \u001b[32m━━━━━━━━━━━━━━━━━━━━\u001b[0m\u001b[37m\u001b[0m \u001b[1m0s\u001b[0m 36ms/step\n",
      "\n",
      "Output Image:\n",
      "\n"
     ]
    },
    {
     "data": {
      "image/png": "[encoded data removed]",
      "text/plain": [
       "<Figure size 100x100 with 1 Axes>"
      ]
     },
     "metadata": {},
     "output_type": "display_data"
    },
    {
     "name": "stdout",
     "output_type": "stream",
     "text": [
      "\n",
      "Input Image:\n",
      "\n"
     ]
    },
    {
     "data": {
      "image/png": "[encoded data removed]",
      "text/plain": [
       "<Figure size 100x100 with 1 Axes>"
      ]
     },
     "metadata": {},
     "output_type": "display_data"
    },
    {
     "name": "stdout",
     "output_type": "stream",
     "text": [
      "\u001b[1m1/1\u001b[0m \u001b[32m━━━━━━━━━━━━━━━━━━━━\u001b[0m\u001b[37m\u001b[0m \u001b[1m0s\u001b[0m 36ms/step\n",
      "\n",
      "Output Image:\n",
      "\n"
     ]
    },
    {
     "data": {
      "image/png": "[encoded data removed]",
      "text/plain": [
       "<Figure size 100x100 with 1 Axes>"
      ]
     },
     "metadata": {},
     "output_type": "display_data"
    }
   ],
   "source": [
    "for i in range(10):\n",
    "    var_autoEncoder.compareInputOutput(mnist_digits[i])"
   ]
  },
  {
   "cell_type": "markdown",
   "metadata": {},
   "source": [
    "### Citations:\n",
    "\n",
    "1) Building Autoencoders in Keras:\n",
    "   https://blog.keras.io/building-autoencoders-in-keras.html\n",
    "\n",
    "2) Variational AutoEncoder:\n",
    "   https://keras.io/examples/generative/vae/\n",
    "\n",
    "3) Stack Overflow\n",
    "   https://stackoverflow.com/questions/51202181/how-do-i-select-only-a-specific-digit-from-the-mnist-dataset-provided-by-keras"
   ]
  },
  {
   "cell_type": "markdown",
   "metadata": {},
   "source": [
    "# Here Is the making of the CVAE\n",
    "\n",
    "The main changes we need to include are first, letting the model both take in the image, and the label. When we create the decoder, we also have to make the model take in the input. "
   ]
  },
  {
   "cell_type": "code",
   "execution_count": 9,
   "metadata": {},
   "outputs": [],
   "source": [
    "# This code is from citation 2, but is also modified\n",
    "class CVAE(keras.Model):\n",
    "    def __init__(self, encoder, decoder, **kwargs):\n",
    "        super().__init__(**kwargs)\n",
    "        self.encoder = encoder\n",
    "        self.decoder = decoder\n",
    "        self.total_loss_tracker = keras.metrics.Mean(name=\"total_loss\")\n",
    "        self.reconstruction_loss_tracker = keras.metrics.Mean(name=\"reconstruction_loss\")\n",
    "        self.kl_loss_tracker = keras.metrics.Mean(name=\"kl_loss\")\n",
    "\n",
    "    @property\n",
    "    def metrics(self):\n",
    "        return [\n",
    "            self.total_loss_tracker,\n",
    "            self.reconstruction_loss_tracker,\n",
    "            self.kl_loss_tracker,\n",
    "        ]\n",
    "\n",
    "    @tf.function\n",
    "    def train_step(self, data):\n",
    "        images, labels = data  # Unpack the data and labels\n",
    "        \n",
    "        with tf.GradientTape() as tape:\n",
    "            # Encode with both image and label\n",
    "            z_mean, z_log_var, z = self.encoder([images, labels])\n",
    "            \n",
    "            # Decode with both latent space and label\n",
    "            reconstruction = self.decoder([z, labels])\n",
    "            \n",
    "            # Compute losses\n",
    "            reconstruction_loss = tf.reduce_mean(\n",
    "                tf.reduce_sum(\n",
    "                    keras.losses.binary_crossentropy(images, reconstruction),\n",
    "                    axis=(1, 2)\n",
    "                )\n",
    "            )\n",
    "            kl_loss = -0.5 * (1 + z_log_var - tf.square(z_mean) - tf.exp(z_log_var))\n",
    "            kl_loss = 0.001 * tf.reduce_mean(tf.reduce_sum(kl_loss, axis=1))  # Added beta weight\n",
    "            total_loss = reconstruction_loss + kl_loss\n",
    "\n",
    "        # Update weights\n",
    "        grads = tape.gradient(total_loss, self.trainable_weights)\n",
    "        self.optimizer.apply_gradients(zip(grads, self.trainable_weights))\n",
    "        \n",
    "        # Update metrics\n",
    "        self.total_loss_tracker.update_state(total_loss)\n",
    "        self.reconstruction_loss_tracker.update_state(reconstruction_loss)\n",
    "        self.kl_loss_tracker.update_state(kl_loss)\n",
    "        \n",
    "        return {\n",
    "            \"loss\": self.total_loss_tracker.result(),\n",
    "            \"reconstruction_loss\": self.reconstruction_loss_tracker.result(),\n",
    "            \"kl_loss\": self.kl_loss_tracker.result(),\n",
    "        }\n",
    "    \n",
    "    # Need a new call function in order to make sure that we are taking in both the image and the label\n",
    "    def call(self, inputs):\n",
    "        images, labels = inputs\n",
    "        # First get latent representation from encoder\n",
    "        z_mean, z_log_var, z = self.encoder([images, labels])\n",
    "        # Then pass latent representation and labels to decoder\n",
    "        return self.decoder([z, labels])\n",
    "\n"
   ]
  },
  {
   "cell_type": "code",
   "execution_count": 10,
   "metadata": {},
   "outputs": [],
   "source": [
    "# This code is from citation 2)\n",
    "class Sampling(layers.Layer):\n",
    "    \"Allows us to sample from a Gaussian Distribution\"\n",
    "    def call(self, inputs):\n",
    "        z_mean, z_log_var = inputs\n",
    "        print(z_mean)\n",
    "        batch = ops.shape(z_mean)[0]\n",
    "        dim = ops.shape(z_mean)[1]\n",
    "        epsilon = keras.random.normal(shape=(batch, dim))\n",
    "        return z_mean + ops.exp(0.5 * z_log_var) * epsilon"
   ]
  },
  {
   "cell_type": "code",
   "execution_count": 11,
   "metadata": {},
   "outputs": [],
   "source": [
    "class Conditional_Var_AutoEncoder:\n",
    "    encoder = \"\"\n",
    "    decoder = \"\"\n",
    "    autoEncoder = \"\"\n",
    "    shapeOfImage = 0\n",
    "    labelSize = 0\n",
    "    history = \"\"\n",
    "    flattened=\"\"\n",
    "    input_size=\"\"\n",
    "    latent_dim=\"\"\n",
    "    recon=[]\n",
    "    \n",
    "    def __init__(self, shapeOfImage, labelSize, flattened=False, latent_dim=2):\n",
    "        '''This is how we initialize our Auto encoder. Can choose to input numOfHiddenLayers, optimizerChoice, lossChoice'''\n",
    "        self.flattened= flattened\n",
    "        self.shapeOfImage = shapeOfImage\n",
    "        self.latent_dim=latent_dim\n",
    "        self.labelSize = labelSize\n",
    "        \n",
    "    def constructModel(self, numOfHiddenLayers=3, optimizerChoice=\"adam\", lossChoice=losses.MeanSquaredError(), activationChoice=\"relu\"):\n",
    "        '''Here we create the encoder, the decoder, and the full auto encoder. We also compile the entire autoencoder'''\n",
    "\n",
    "        #def constructModel(self, numOfHiddenLayers=3, optimizerChoice=\"adam\", lossChoice=losses.MeanSquaredError(), activationChoice=\"relu\"):\n",
    "        self.encoder, bottleNeck = self.createEncoderNetwork(numOfHiddenLayers, activationChoice)\n",
    "        self.decoder = self.createDecoderNetwork(numOfHiddenLayers, bottleNeck, activationChoice)\n",
    "        \n",
    "        # Define inputs\n",
    "        img_input = Input(shape=self.shapeOfImage if not self.flattened else (self.shapeOfImage,))\n",
    "        label_input = Input(shape=(self.labelSize,))\n",
    "        \n",
    "        # Get encoder outputs\n",
    "        z_mean, z_log_var, z = self.encoder([img_input, label_input])\n",
    "        \n",
    "        # Get decoder output (pass both z and label)\n",
    "        decoder_outputs = self.decoder([z, label_input])\n",
    "        \n",
    "        # Build the autoencoder with both inputs\n",
    "        self.autoEncoder = Model(inputs=[img_input, label_input], outputs=decoder_outputs, name=\"autoEncoder\")\n",
    "        \n",
    "        # Compile the autoencoder\n",
    "        self.autoEncoder.compile(optimizer=optimizerChoice, loss=lossChoice)\n",
    "        print(\"AutoEncoder successfully created and compiled.\")\n",
    "\n",
    "    def getModels(self):\n",
    "        return self.encoder, self.decoder\n",
    "\n",
    "    def variation_loss(inputs, reconstruction, z_mean, z_log_var):\n",
    "        reconstruction_loss = layers.backend.mean(layers.backend.sum(layers.backend.square(inputs - reconstruction), axis = 1))\n",
    "\n",
    "        kl_loss = -0.8 * layers.backend.mean(layers.backend.sum(1 + z_log_var - layers.backend.square(z_mean)-layers.backend.exp(z_log_var), axis=1))\n",
    "        \n",
    "        return reconstruction_loss + kl_loss\n",
    "    \n",
    "    def createEncoderNetwork(self, numOfHiddenLayers, activationChoice='relu'):\n",
    "        '''Here is where we construct our nerual network that takes\n",
    "        in an image from the dataset, and gives us an output for our\n",
    "        \"bottleneck\".'''\n",
    "        \n",
    "        if self.flattened:\n",
    "            img_input = Input(shape=(self.shapeOfImage,))\n",
    "            label_input = Input(shape=(self.labelSize,))\n",
    "            self.input_size = self.shapeOfImage\n",
    "            # For flattened input, use img_input directly\n",
    "            img_to_concat = img_input\n",
    "        else:\n",
    "            img_input = Input(shape=self.shapeOfImage)\n",
    "            label_input = Input(shape=(self.labelSize,))\n",
    "            # For unflattened input, we need to flatten it first\n",
    "            img_flat = layers.Flatten()(img_input)\n",
    "            self.input_size = self.shapeOfImage[0] * self.shapeOfImage[1]\n",
    "            img_to_concat = img_flat\n",
    "            \n",
    "        # Concatenate image and label using the appropriate image tensor\n",
    "        x = layers.Concatenate()([img_to_concat, label_input])\n",
    "            \n",
    "        x = layers.Dense(self.input_size + self.labelSize, activation=activationChoice)(x)\n",
    "        \n",
    "        for i in range(numOfHiddenLayers):\n",
    "            x = (layers.Dense(int(self.input_size/(2 ** (i+1))), activation=activationChoice))(x)\n",
    "\n",
    "        bottleNeckSize = (int(self.input_size/(2 **(numOfHiddenLayers+1))))\n",
    "        self.bottleNeckSize = bottleNeckSize\n",
    "        \n",
    "        x = (layers.Dense(bottleNeckSize, activation=activationChoice))(x)\n",
    "\n",
    "        z_mean = layers.Dense(self.latent_dim, name=\"z_mean\")(x)\n",
    "        \n",
    "        z_log_var = layers.Dense(self.latent_dim, name=\"z_log_var\")(x)\n",
    "        \n",
    "        z = Sampling()([z_mean, z_log_var])\n",
    "        \n",
    "        return Model([img_input, label_input], [z_mean, z_log_var, z], name=\"encoder\"), bottleNeckSize\n",
    "\n",
    "        \n",
    "    def createDecoderNetwork(self, numOfHiddenLayers, bottleNeckSize, activationChoice='relu'):\n",
    "        '''Here is where we construct our nerual network that takes\n",
    "        in our output from the bottleneck found by our encoder, and\n",
    "        gives us an image as an output'''\n",
    "\n",
    "        latent_input = Input(shape=(self.latent_dim,))\n",
    "        label_input = Input(shape=(self.labelSize,))\n",
    "        \n",
    "        # Concatenate latent vector and label\n",
    "        x = layers.Concatenate()([latent_input, label_input])\n",
    "        \n",
    "        x = layers.Dense(self.latent_dim + self.labelSize, activation=activationChoice)(x)\n",
    "        \n",
    "        for i in range(numOfHiddenLayers):\n",
    "            # print(f\"Hidden layer {i} size is :{int(bottleNeckSize*(2 ** (i+1)))}\")\n",
    "            x = (layers.Dense(int(bottleNeckSize*(2 ** (i+1))), activation=activationChoice))(x)\n",
    "\n",
    "        x = layers.Dense(self.shapeOfImage[0] * self.shapeOfImage[1], activation=activationChoice)(x)\n",
    "        decoder_outputs = layers.Dense(self.input_size, activation=activationChoice)(x)\n",
    "\n",
    "        if not self.flattened:\n",
    "            x = layers.Reshape((self.shapeOfImage[0], self.shapeOfImage[1], 1))(x)\n",
    "            # Transposed convolution to generate the final output\n",
    "            decoder_outputs = layers.Conv2DTranspose(\n",
    "                1, 3, activation=\"sigmoid\", padding=\"same\", name=\"final_output\")(x)\n",
    "        \n",
    "        # Changed to include both inputs\n",
    "        decoder = Model([latent_input, label_input], decoder_outputs, name=\"decoder\")\n",
    "        print(\"Decoder created:\", decoder)\n",
    "        return decoder\n",
    "\n",
    "    def getEncoderDecoderSummaries(self):\n",
    "        self.encoder.summary()\n",
    "        self.decoder.summary()\n",
    "        return\n",
    "\n",
    "    def getNetworkSummary(self):\n",
    "        self.autoEncoder.summary()\n",
    "\n",
    "    def train(self, data, labels, numEpochs=10, batchSize=128):\n",
    "        self.history = self.autoEncoder.fit(\n",
    "            [data, labels],  # Input is now [images, labels]\n",
    "            data,           # Output is still just the images\n",
    "            epochs=numEpochs,\n",
    "            batch_size=batchSize,\n",
    "            verbose=0\n",
    "        )\n",
    "        return self.history\n",
    "\n",
    "    def compareInputOutput(self, inputImage, label):\n",
    "        print(\"\\nInput Image:\\n\")\n",
    "        if self.flattened:\n",
    "            # Make a plot of the input image\n",
    "            plt.figure(1, figsize=(1,1))\n",
    "            plt.imshow(np.reshape(inputImage, (8,8)), cmap=plt.cm.gray_r, interpolation=\"nearest\")\n",
    "            plt.show()\n",
    "\n",
    "            # Reformat the image and label data\n",
    "            inputData = np.expand_dims(inputImage, axis=0)\n",
    "            labelData = np.expand_dims(label, axis=0)\n",
    "\n",
    "            # Get the output image data\n",
    "            picture = self.autoEncoder.predict([inputData, labelData])\n",
    "\n",
    "            # Reshape the output so it works with the plot\n",
    "            reconstructedImage = np.reshape(picture, (8, 8))\n",
    "            \n",
    "        else:\n",
    "            plt.figure(1, figsize=(1,1))\n",
    "            plt.imshow(inputImage, cmap=plt.cm.gray_r, interpolation=\"nearest\")\n",
    "            plt.show()\n",
    "            \n",
    "            inputData = np.expand_dims(inputImage, axis=0)\n",
    "            labelData = np.expand_dims(label, axis=0)\n",
    "            reconstructedImage = np.reshape(self.autoEncoder.predict([inputData, labelData]), self.shapeOfImage)\n",
    "\n",
    "        print(\"\\nOutput Image:\\n\")\n",
    "        plt.figure(1, figsize=(1,1))\n",
    "        plt.imshow(reconstructedImage, cmap=plt.cm.gray_r, interpolation=\"nearest\")\n",
    "        plt.show()\n",
    "\n",
    "        self.recon.append(np.mean((inputImage - reconstructedImage) ** 2))\n",
    "\n",
    "    def get_recon(self):\n",
    "        if self.recon==[]:\n",
    "            print(\"This list is empty run compareInputOutput to get values\")\n",
    "        return self.recon\n",
    "\n",
    "    def reset_recon(self):\n",
    "        self.recon=[]\n",
    "\n",
    "    def setAutoEncoder(self, AE):\n",
    "        self.autoEncoder = AE\n",
    "\n",
    "    def predict(self, inputImage, label):\n",
    "        if self.flattened:\n",
    "            inputData = np.expand_dims(inputImage, axis=0)\n",
    "            labelData = np.expand_dims(label, axis=0)\n",
    "            picture = self.autoEncoder.predict([inputData, labelData])\n",
    "            reconstructedImage = np.reshape(picture, (8, 8))\n",
    "            \n",
    "        else:\n",
    "            inputData = np.expand_dims(inputImage, axis=0)\n",
    "            labelData = np.expand_dims(label, axis=0)\n",
    "            reconstructedImage = np.reshape(self.autoEncoder.predict([inputData, labelData]), self.shapeOfImage)\n",
    "        return reconstructedImage\n"
   ]
  },
  {
   "cell_type": "markdown",
   "metadata": {},
   "source": [
    "### Load the data, construct the model and compile"
   ]
  },
  {
   "cell_type": "code",
   "execution_count": 12,
   "metadata": {},
   "outputs": [],
   "source": [
    "# Load MNIST dataset\n",
    "(x_train, y_train), (x_test, y_test) = keras.datasets.mnist.load_data()\n",
    "\n",
    "# Combine train and test data\n",
    "mnist_digits = np.concatenate([x_train, x_test], axis=0)\n",
    "mnist_labels = np.concatenate([y_train, y_test], axis=0)\n",
    "\n",
    "# Normalize pixel values to [0, 1]\n",
    "mnist_digits = np.expand_dims(mnist_digits, -1).astype(\"float32\") / 255\n",
    "\n",
    "# Convert labels to one-hot encoding\n",
    "mnist_labels_onehot = keras.utils.to_categorical(mnist_labels, num_classes=10)\n",
    "\n",
    "# Create a tensorflow dataset that pairs images with labels\n",
    "train_dataset = tf.data.Dataset.from_tensor_slices((mnist_digits, mnist_labels_onehot))\n",
    "train_dataset = train_dataset.shuffle(len(mnist_digits)).batch(128)\n",
    "\n"
   ]
  },
  {
   "cell_type": "markdown",
   "metadata": {},
   "source": [
    "### Create the model"
   ]
  },
  {
   "cell_type": "code",
   "execution_count": 13,
   "metadata": {},
   "outputs": [
    {
     "name": "stdout",
     "output_type": "stream",
     "text": [
      "Tensor(\"Placeholder:0\", shape=(None, 16), dtype=float32)\n",
      "Decoder created: <Functional name=decoder, built=True>\n",
      "AutoEncoder successfully created and compiled.\n"
     ]
    }
   ],
   "source": [
    "# Create and set up the CVAE\n",
    "cvar_autoEncoder = Conditional_Var_AutoEncoder((28,28), labelSize=10, flattened=False, latent_dim=16)\n",
    "cvar_autoEncoder.constructModel(numOfHiddenLayers=3)\n",
    "\n",
    "encoder, decoder = cvar_autoEncoder.getModels()\n",
    "\n",
    "# Create the CVAE model\n",
    "cvae = CVAE(encoder, decoder)\n",
    "cvae.compile(optimizer=keras.optimizers.Adam(learning_rate=0.001))"
   ]
  },
  {
   "cell_type": "markdown",
   "metadata": {},
   "source": [
    "### Train the model"
   ]
  },
  {
   "cell_type": "code",
   "execution_count": 14,
   "metadata": {},
   "outputs": [
    {
     "name": "stdout",
     "output_type": "stream",
     "text": [
      "Epoch 1/100\n",
      "Tensor(\"encoder_1/z_mean_1/BiasAdd:0\", shape=(None, 16), dtype=float32)\n",
      "Tensor(\"encoder_1/z_mean_1/BiasAdd:0\", shape=(None, 16), dtype=float32)\n",
      "\u001b[1m547/547\u001b[0m \u001b[32m━━━━━━━━━━━━━━━━━━━━\u001b[0m\u001b[37m\u001b[0m \u001b[1m16s\u001b[0m 21ms/step - kl_loss: 0.0504 - loss: 504.8876 - reconstruction_loss: 504.8371\n",
      "Epoch 2/100\n",
      "\u001b[1m547/547\u001b[0m \u001b[32m━━━━━━━━━━━━━━━━━━━━\u001b[0m\u001b[37m\u001b[0m \u001b[1m12s\u001b[0m 23ms/step - kl_loss: 0.1349 - loss: 379.5585 - reconstruction_loss: 379.4236\n",
      "Epoch 3/100\n",
      "\u001b[1m547/547\u001b[0m \u001b[32m━━━━━━━━━━━━━━━━━━━━\u001b[0m\u001b[37m\u001b[0m \u001b[1m12s\u001b[0m 22ms/step - kl_loss: 0.1522 - loss: 298.8121 - reconstruction_loss: 298.6599\n",
      "Epoch 4/100\n",
      "\u001b[1m547/547\u001b[0m \u001b[32m━━━━━━━━━━━━━━━━━━━━\u001b[0m\u001b[37m\u001b[0m \u001b[1m14s\u001b[0m 24ms/step - kl_loss: 0.1691 - loss: 242.2497 - reconstruction_loss: 242.0806\n",
      "Epoch 5/100\n",
      "\u001b[1m547/547\u001b[0m \u001b[32m━━━━━━━━━━━━━━━━━━━━\u001b[0m\u001b[37m\u001b[0m \u001b[1m15s\u001b[0m 27ms/step - kl_loss: 0.1710 - loss: 206.8667 - reconstruction_loss: 206.6957\n",
      "Epoch 6/100\n",
      "\u001b[1m547/547\u001b[0m \u001b[32m━━━━━━━━━━━━━━━━━━━━\u001b[0m\u001b[37m\u001b[0m \u001b[1m13s\u001b[0m 23ms/step - kl_loss: 0.1708 - loss: 181.1955 - reconstruction_loss: 181.0247\n",
      "Epoch 7/100\n",
      "\u001b[1m547/547\u001b[0m \u001b[32m━━━━━━━━━━━━━━━━━━━━\u001b[0m\u001b[37m\u001b[0m \u001b[1m14s\u001b[0m 25ms/step - kl_loss: 0.1652 - loss: 165.7008 - reconstruction_loss: 165.5356\n",
      "Epoch 8/100\n",
      "\u001b[1m547/547\u001b[0m \u001b[32m━━━━━━━━━━━━━━━━━━━━\u001b[0m\u001b[37m\u001b[0m \u001b[1m14s\u001b[0m 25ms/step - kl_loss: 0.1619 - loss: 155.0189 - reconstruction_loss: 154.8570\n",
      "Epoch 9/100\n",
      "\u001b[1m547/547\u001b[0m \u001b[32m━━━━━━━━━━━━━━━━━━━━\u001b[0m\u001b[37m\u001b[0m \u001b[1m13s\u001b[0m 23ms/step - kl_loss: 0.1592 - loss: 147.4165 - reconstruction_loss: 147.2572\n",
      "Epoch 10/100\n",
      "\u001b[1m547/547\u001b[0m \u001b[32m━━━━━━━━━━━━━━━━━━━━\u001b[0m\u001b[37m\u001b[0m \u001b[1m15s\u001b[0m 27ms/step - kl_loss: 0.1578 - loss: 141.9098 - reconstruction_loss: 141.7520\n",
      "Epoch 11/100\n",
      "\u001b[1m547/547\u001b[0m \u001b[32m━━━━━━━━━━━━━━━━━━━━\u001b[0m\u001b[37m\u001b[0m \u001b[1m16s\u001b[0m 28ms/step - kl_loss: 0.1547 - loss: 138.6171 - reconstruction_loss: 138.4624\n",
      "Epoch 12/100\n",
      "\u001b[1m547/547\u001b[0m \u001b[32m━━━━━━━━━━━━━━━━━━━━\u001b[0m\u001b[37m\u001b[0m \u001b[1m12s\u001b[0m 23ms/step - kl_loss: 0.1520 - loss: 136.1742 - reconstruction_loss: 136.0222\n",
      "Epoch 13/100\n",
      "\u001b[1m547/547\u001b[0m \u001b[32m━━━━━━━━━━━━━━━━━━━━\u001b[0m\u001b[37m\u001b[0m \u001b[1m13s\u001b[0m 24ms/step - kl_loss: 0.1505 - loss: 134.8513 - reconstruction_loss: 134.7009\n",
      "Epoch 14/100\n",
      "\u001b[1m547/547\u001b[0m \u001b[32m━━━━━━━━━━━━━━━━━━━━\u001b[0m\u001b[37m\u001b[0m \u001b[1m13s\u001b[0m 24ms/step - kl_loss: 0.1475 - loss: 133.5045 - reconstruction_loss: 133.3569\n",
      "Epoch 15/100\n",
      "\u001b[1m547/547\u001b[0m \u001b[32m━━━━━━━━━━━━━━━━━━━━\u001b[0m\u001b[37m\u001b[0m \u001b[1m16s\u001b[0m 29ms/step - kl_loss: 0.1462 - loss: 132.9934 - reconstruction_loss: 132.8472\n",
      "Epoch 16/100\n",
      "\u001b[1m547/547\u001b[0m \u001b[32m━━━━━━━━━━━━━━━━━━━━\u001b[0m\u001b[37m\u001b[0m \u001b[1m17s\u001b[0m 31ms/step - kl_loss: 0.1434 - loss: 132.4246 - reconstruction_loss: 132.2812\n",
      "Epoch 17/100\n",
      "\u001b[1m547/547\u001b[0m \u001b[32m━━━━━━━━━━━━━━━━━━━━\u001b[0m\u001b[37m\u001b[0m \u001b[1m16s\u001b[0m 29ms/step - kl_loss: 0.1406 - loss: 132.2704 - reconstruction_loss: 132.1298\n",
      "Epoch 18/100\n",
      "\u001b[1m547/547\u001b[0m \u001b[32m━━━━━━━━━━━━━━━━━━━━\u001b[0m\u001b[37m\u001b[0m \u001b[1m16s\u001b[0m 28ms/step - kl_loss: 0.1390 - loss: 132.1918 - reconstruction_loss: 132.0527\n",
      "Epoch 19/100\n",
      "\u001b[1m547/547\u001b[0m \u001b[32m━━━━━━━━━━━━━━━━━━━━\u001b[0m\u001b[37m\u001b[0m \u001b[1m14s\u001b[0m 24ms/step - kl_loss: 0.1379 - loss: 131.6347 - reconstruction_loss: 131.4968\n",
      "Epoch 20/100\n",
      "\u001b[1m547/547\u001b[0m \u001b[32m━━━━━━━━━━━━━━━━━━━━\u001b[0m\u001b[37m\u001b[0m \u001b[1m12s\u001b[0m 22ms/step - kl_loss: 0.1361 - loss: 131.4352 - reconstruction_loss: 131.2990\n",
      "Epoch 21/100\n",
      "\u001b[1m547/547\u001b[0m \u001b[32m━━━━━━━━━━━━━━━━━━━━\u001b[0m\u001b[37m\u001b[0m \u001b[1m14s\u001b[0m 24ms/step - kl_loss: 0.1350 - loss: 129.1053 - reconstruction_loss: 128.9704\n",
      "Epoch 22/100\n",
      "\u001b[1m547/547\u001b[0m \u001b[32m━━━━━━━━━━━━━━━━━━━━\u001b[0m\u001b[37m\u001b[0m \u001b[1m12s\u001b[0m 22ms/step - kl_loss: 0.1342 - loss: 127.5098 - reconstruction_loss: 127.3756\n",
      "Epoch 23/100\n",
      "\u001b[1m547/547\u001b[0m \u001b[32m━━━━━━━━━━━━━━━━━━━━\u001b[0m\u001b[37m\u001b[0m \u001b[1m12s\u001b[0m 22ms/step - kl_loss: 0.1338 - loss: 126.9269 - reconstruction_loss: 126.7932\n",
      "Epoch 24/100\n",
      "\u001b[1m547/547\u001b[0m \u001b[32m━━━━━━━━━━━━━━━━━━━━\u001b[0m\u001b[37m\u001b[0m \u001b[1m12s\u001b[0m 22ms/step - kl_loss: 0.1315 - loss: 126.7162 - reconstruction_loss: 126.5847\n",
      "Epoch 25/100\n",
      "\u001b[1m547/547\u001b[0m \u001b[32m━━━━━━━━━━━━━━━━━━━━\u001b[0m\u001b[37m\u001b[0m \u001b[1m14s\u001b[0m 25ms/step - kl_loss: 0.1311 - loss: 126.4140 - reconstruction_loss: 126.2829\n",
      "Epoch 26/100\n",
      "\u001b[1m547/547\u001b[0m \u001b[32m━━━━━━━━━━━━━━━━━━━━\u001b[0m\u001b[37m\u001b[0m \u001b[1m13s\u001b[0m 24ms/step - kl_loss: 0.1299 - loss: 126.4552 - reconstruction_loss: 126.3253\n",
      "Epoch 27/100\n",
      "\u001b[1m547/547\u001b[0m \u001b[32m━━━━━━━━━━━━━━━━━━━━\u001b[0m\u001b[37m\u001b[0m \u001b[1m13s\u001b[0m 23ms/step - kl_loss: 0.1289 - loss: 126.9184 - reconstruction_loss: 126.7895\n",
      "Epoch 28/100\n",
      "\u001b[1m547/547\u001b[0m \u001b[32m━━━━━━━━━━━━━━━━━━━━\u001b[0m\u001b[37m\u001b[0m \u001b[1m14s\u001b[0m 25ms/step - kl_loss: 0.1272 - loss: 126.2185 - reconstruction_loss: 126.0913\n",
      "Epoch 29/100\n",
      "\u001b[1m547/547\u001b[0m \u001b[32m━━━━━━━━━━━━━━━━━━━━\u001b[0m\u001b[37m\u001b[0m \u001b[1m13s\u001b[0m 23ms/step - kl_loss: 0.1263 - loss: 126.3220 - reconstruction_loss: 126.1957\n",
      "Epoch 30/100\n",
      "\u001b[1m547/547\u001b[0m \u001b[32m━━━━━━━━━━━━━━━━━━━━\u001b[0m\u001b[37m\u001b[0m \u001b[1m13s\u001b[0m 24ms/step - kl_loss: 0.1253 - loss: 126.4472 - reconstruction_loss: 126.3219\n",
      "Epoch 31/100\n",
      "\u001b[1m547/547\u001b[0m \u001b[32m━━━━━━━━━━━━━━━━━━━━\u001b[0m\u001b[37m\u001b[0m \u001b[1m13s\u001b[0m 23ms/step - kl_loss: 0.1249 - loss: 126.4094 - reconstruction_loss: 126.2845\n",
      "Epoch 32/100\n",
      "\u001b[1m547/547\u001b[0m \u001b[32m━━━━━━━━━━━━━━━━━━━━\u001b[0m\u001b[37m\u001b[0m \u001b[1m12s\u001b[0m 23ms/step - kl_loss: 0.1236 - loss: 125.4097 - reconstruction_loss: 125.2861\n",
      "Epoch 33/100\n",
      "\u001b[1m547/547\u001b[0m \u001b[32m━━━━━━━━━━━━━━━━━━━━\u001b[0m\u001b[37m\u001b[0m \u001b[1m13s\u001b[0m 24ms/step - kl_loss: 0.1229 - loss: 125.7790 - reconstruction_loss: 125.6561\n",
      "Epoch 34/100\n",
      "\u001b[1m547/547\u001b[0m \u001b[32m━━━━━━━━━━━━━━━━━━━━\u001b[0m\u001b[37m\u001b[0m \u001b[1m12s\u001b[0m 22ms/step - kl_loss: 0.1218 - loss: 125.7697 - reconstruction_loss: 125.6478\n",
      "Epoch 35/100\n",
      "\u001b[1m547/547\u001b[0m \u001b[32m━━━━━━━━━━━━━━━━━━━━\u001b[0m\u001b[37m\u001b[0m \u001b[1m13s\u001b[0m 24ms/step - kl_loss: 0.1216 - loss: 125.2055 - reconstruction_loss: 125.0839\n",
      "Epoch 36/100\n",
      "\u001b[1m547/547\u001b[0m \u001b[32m━━━━━━━━━━━━━━━━━━━━\u001b[0m\u001b[37m\u001b[0m \u001b[1m13s\u001b[0m 23ms/step - kl_loss: 0.1206 - loss: 125.5378 - reconstruction_loss: 125.4172\n",
      "Epoch 37/100\n",
      "\u001b[1m547/547\u001b[0m \u001b[32m━━━━━━━━━━━━━━━━━━━━\u001b[0m\u001b[37m\u001b[0m \u001b[1m14s\u001b[0m 25ms/step - kl_loss: 0.1199 - loss: 125.5553 - reconstruction_loss: 125.4354\n",
      "Epoch 38/100\n",
      "\u001b[1m547/547\u001b[0m \u001b[32m━━━━━━━━━━━━━━━━━━━━\u001b[0m\u001b[37m\u001b[0m \u001b[1m13s\u001b[0m 24ms/step - kl_loss: 0.1195 - loss: 125.6032 - reconstruction_loss: 125.4837\n",
      "Epoch 39/100\n",
      "\u001b[1m547/547\u001b[0m \u001b[32m━━━━━━━━━━━━━━━━━━━━\u001b[0m\u001b[37m\u001b[0m \u001b[1m12s\u001b[0m 21ms/step - kl_loss: 0.1184 - loss: 125.3237 - reconstruction_loss: 125.2052\n",
      "Epoch 40/100\n",
      "\u001b[1m547/547\u001b[0m \u001b[32m━━━━━━━━━━━━━━━━━━━━\u001b[0m\u001b[37m\u001b[0m \u001b[1m12s\u001b[0m 22ms/step - kl_loss: 0.1182 - loss: 125.6313 - reconstruction_loss: 125.5132\n",
      "Epoch 41/100\n",
      "\u001b[1m547/547\u001b[0m \u001b[32m━━━━━━━━━━━━━━━━━━━━\u001b[0m\u001b[37m\u001b[0m \u001b[1m12s\u001b[0m 22ms/step - kl_loss: 0.1179 - loss: 125.3830 - reconstruction_loss: 125.2651\n",
      "Epoch 42/100\n",
      "\u001b[1m547/547\u001b[0m \u001b[32m━━━━━━━━━━━━━━━━━━━━\u001b[0m\u001b[37m\u001b[0m \u001b[1m13s\u001b[0m 23ms/step - kl_loss: 0.1168 - loss: 125.6630 - reconstruction_loss: 125.5462\n",
      "Epoch 43/100\n",
      "\u001b[1m547/547\u001b[0m \u001b[32m━━━━━━━━━━━━━━━━━━━━\u001b[0m\u001b[37m\u001b[0m \u001b[1m13s\u001b[0m 24ms/step - kl_loss: 0.1172 - loss: 125.2138 - reconstruction_loss: 125.0966\n",
      "Epoch 44/100\n",
      "\u001b[1m547/547\u001b[0m \u001b[32m━━━━━━━━━━━━━━━━━━━━\u001b[0m\u001b[37m\u001b[0m \u001b[1m12s\u001b[0m 22ms/step - kl_loss: 0.1164 - loss: 125.1646 - reconstruction_loss: 125.0483\n",
      "Epoch 45/100\n",
      "\u001b[1m547/547\u001b[0m \u001b[32m━━━━━━━━━━━━━━━━━━━━\u001b[0m\u001b[37m\u001b[0m \u001b[1m12s\u001b[0m 22ms/step - kl_loss: 0.1163 - loss: 125.1556 - reconstruction_loss: 125.0394\n",
      "Epoch 46/100\n",
      "\u001b[1m547/547\u001b[0m \u001b[32m━━━━━━━━━━━━━━━━━━━━\u001b[0m\u001b[37m\u001b[0m \u001b[1m12s\u001b[0m 22ms/step - kl_loss: 0.1162 - loss: 125.0603 - reconstruction_loss: 124.9441\n",
      "Epoch 47/100\n",
      "\u001b[1m547/547\u001b[0m \u001b[32m━━━━━━━━━━━━━━━━━━━━\u001b[0m\u001b[37m\u001b[0m \u001b[1m12s\u001b[0m 22ms/step - kl_loss: 0.1164 - loss: 125.2935 - reconstruction_loss: 125.1771\n",
      "Epoch 48/100\n",
      "\u001b[1m547/547\u001b[0m \u001b[32m━━━━━━━━━━━━━━━━━━━━\u001b[0m\u001b[37m\u001b[0m \u001b[1m12s\u001b[0m 22ms/step - kl_loss: 0.1155 - loss: 125.1933 - reconstruction_loss: 125.0778\n",
      "Epoch 49/100\n",
      "\u001b[1m547/547\u001b[0m \u001b[32m━━━━━━━━━━━━━━━━━━━━\u001b[0m\u001b[37m\u001b[0m \u001b[1m12s\u001b[0m 22ms/step - kl_loss: 0.1156 - loss: 125.1272 - reconstruction_loss: 125.0116\n",
      "Epoch 50/100\n",
      "\u001b[1m547/547\u001b[0m \u001b[32m━━━━━━━━━━━━━━━━━━━━\u001b[0m\u001b[37m\u001b[0m \u001b[1m14s\u001b[0m 25ms/step - kl_loss: 0.1156 - loss: 124.8600 - reconstruction_loss: 124.7443\n",
      "Epoch 51/100\n",
      "\u001b[1m547/547\u001b[0m \u001b[32m━━━━━━━━━━━━━━━━━━━━\u001b[0m\u001b[37m\u001b[0m \u001b[1m12s\u001b[0m 22ms/step - kl_loss: 0.1153 - loss: 124.8122 - reconstruction_loss: 124.6969\n",
      "Epoch 52/100\n",
      "\u001b[1m547/547\u001b[0m \u001b[32m━━━━━━━━━━━━━━━━━━━━\u001b[0m\u001b[37m\u001b[0m \u001b[1m12s\u001b[0m 22ms/step - kl_loss: 0.1153 - loss: 124.6027 - reconstruction_loss: 124.4874\n",
      "Epoch 53/100\n",
      "\u001b[1m547/547\u001b[0m \u001b[32m━━━━━━━━━━━━━━━━━━━━\u001b[0m\u001b[37m\u001b[0m \u001b[1m12s\u001b[0m 22ms/step - kl_loss: 0.1150 - loss: 124.6364 - reconstruction_loss: 124.5213\n",
      "Epoch 54/100\n",
      "\u001b[1m547/547\u001b[0m \u001b[32m━━━━━━━━━━━━━━━━━━━━\u001b[0m\u001b[37m\u001b[0m \u001b[1m12s\u001b[0m 22ms/step - kl_loss: 0.1148 - loss: 124.9136 - reconstruction_loss: 124.7988\n",
      "Epoch 55/100\n",
      "\u001b[1m547/547\u001b[0m \u001b[32m━━━━━━━━━━━━━━━━━━━━\u001b[0m\u001b[37m\u001b[0m \u001b[1m12s\u001b[0m 22ms/step - kl_loss: 0.1147 - loss: 124.4714 - reconstruction_loss: 124.3567\n",
      "Epoch 56/100\n",
      "\u001b[1m547/547\u001b[0m \u001b[32m━━━━━━━━━━━━━━━━━━━━\u001b[0m\u001b[37m\u001b[0m \u001b[1m12s\u001b[0m 21ms/step - kl_loss: 0.1144 - loss: 124.6632 - reconstruction_loss: 124.5489\n",
      "Epoch 57/100\n",
      "\u001b[1m547/547\u001b[0m \u001b[32m━━━━━━━━━━━━━━━━━━━━\u001b[0m\u001b[37m\u001b[0m \u001b[1m13s\u001b[0m 24ms/step - kl_loss: 0.1151 - loss: 124.6397 - reconstruction_loss: 124.5247\n",
      "Epoch 58/100\n",
      "\u001b[1m547/547\u001b[0m \u001b[32m━━━━━━━━━━━━━━━━━━━━\u001b[0m\u001b[37m\u001b[0m \u001b[1m12s\u001b[0m 21ms/step - kl_loss: 0.1144 - loss: 124.7174 - reconstruction_loss: 124.6029\n",
      "Epoch 59/100\n",
      "\u001b[1m547/547\u001b[0m \u001b[32m━━━━━━━━━━━━━━━━━━━━\u001b[0m\u001b[37m\u001b[0m \u001b[1m12s\u001b[0m 21ms/step - kl_loss: 0.1144 - loss: 124.6618 - reconstruction_loss: 124.5474\n",
      "Epoch 60/100\n",
      "\u001b[1m547/547\u001b[0m \u001b[32m━━━━━━━━━━━━━━━━━━━━\u001b[0m\u001b[37m\u001b[0m \u001b[1m12s\u001b[0m 21ms/step - kl_loss: 0.1139 - loss: 124.6377 - reconstruction_loss: 124.5237\n",
      "Epoch 61/100\n",
      "\u001b[1m547/547\u001b[0m \u001b[32m━━━━━━━━━━━━━━━━━━━━\u001b[0m\u001b[37m\u001b[0m \u001b[1m13s\u001b[0m 23ms/step - kl_loss: 0.1137 - loss: 124.0466 - reconstruction_loss: 123.9329\n",
      "Epoch 62/100\n",
      "\u001b[1m547/547\u001b[0m \u001b[32m━━━━━━━━━━━━━━━━━━━━\u001b[0m\u001b[37m\u001b[0m \u001b[1m13s\u001b[0m 24ms/step - kl_loss: 0.1139 - loss: 124.3226 - reconstruction_loss: 124.2087\n",
      "Epoch 63/100\n",
      "\u001b[1m547/547\u001b[0m \u001b[32m━━━━━━━━━━━━━━━━━━━━\u001b[0m\u001b[37m\u001b[0m \u001b[1m12s\u001b[0m 22ms/step - kl_loss: 0.1138 - loss: 124.3649 - reconstruction_loss: 124.2511\n",
      "Epoch 64/100\n",
      "\u001b[1m547/547\u001b[0m \u001b[32m━━━━━━━━━━━━━━━━━━━━\u001b[0m\u001b[37m\u001b[0m \u001b[1m13s\u001b[0m 23ms/step - kl_loss: 0.1139 - loss: 124.1498 - reconstruction_loss: 124.0359\n",
      "Epoch 65/100\n",
      "\u001b[1m547/547\u001b[0m \u001b[32m━━━━━━━━━━━━━━━━━━━━\u001b[0m\u001b[37m\u001b[0m \u001b[1m16s\u001b[0m 28ms/step - kl_loss: 0.1144 - loss: 123.3002 - reconstruction_loss: 123.1859\n",
      "Epoch 66/100\n",
      "\u001b[1m547/547\u001b[0m \u001b[32m━━━━━━━━━━━━━━━━━━━━\u001b[0m\u001b[37m\u001b[0m \u001b[1m15s\u001b[0m 27ms/step - kl_loss: 0.1143 - loss: 123.1363 - reconstruction_loss: 123.0220\n",
      "Epoch 67/100\n",
      "\u001b[1m547/547\u001b[0m \u001b[32m━━━━━━━━━━━━━━━━━━━━\u001b[0m\u001b[37m\u001b[0m \u001b[1m15s\u001b[0m 26ms/step - kl_loss: 0.1141 - loss: 123.1624 - reconstruction_loss: 123.0483\n",
      "Epoch 68/100\n",
      "\u001b[1m547/547\u001b[0m \u001b[32m━━━━━━━━━━━━━━━━━━━━\u001b[0m\u001b[37m\u001b[0m \u001b[1m14s\u001b[0m 24ms/step - kl_loss: 0.1144 - loss: 122.5939 - reconstruction_loss: 122.4795\n",
      "Epoch 69/100\n",
      "\u001b[1m547/547\u001b[0m \u001b[32m━━━━━━━━━━━━━━━━━━━━\u001b[0m\u001b[37m\u001b[0m \u001b[1m16s\u001b[0m 29ms/step - kl_loss: 0.1142 - loss: 122.3251 - reconstruction_loss: 122.2108\n",
      "Epoch 70/100\n",
      "\u001b[1m547/547\u001b[0m \u001b[32m━━━━━━━━━━━━━━━━━━━━\u001b[0m\u001b[37m\u001b[0m \u001b[1m18s\u001b[0m 33ms/step - kl_loss: 0.1142 - loss: 122.6553 - reconstruction_loss: 122.5411\n",
      "Epoch 71/100\n",
      "\u001b[1m547/547\u001b[0m \u001b[32m━━━━━━━━━━━━━━━━━━━━\u001b[0m\u001b[37m\u001b[0m \u001b[1m18s\u001b[0m 32ms/step - kl_loss: 0.1139 - loss: 122.5130 - reconstruction_loss: 122.3990\n",
      "Epoch 72/100\n",
      "\u001b[1m547/547\u001b[0m \u001b[32m━━━━━━━━━━━━━━━━━━━━\u001b[0m\u001b[37m\u001b[0m \u001b[1m15s\u001b[0m 27ms/step - kl_loss: 0.1140 - loss: 122.7401 - reconstruction_loss: 122.6261\n",
      "Epoch 73/100\n",
      "\u001b[1m547/547\u001b[0m \u001b[32m━━━━━━━━━━━━━━━━━━━━\u001b[0m\u001b[37m\u001b[0m \u001b[1m15s\u001b[0m 28ms/step - kl_loss: 0.1141 - loss: 122.4218 - reconstruction_loss: 122.3077\n",
      "Epoch 74/100\n",
      "\u001b[1m547/547\u001b[0m \u001b[32m━━━━━━━━━━━━━━━━━━━━\u001b[0m\u001b[37m\u001b[0m \u001b[1m16s\u001b[0m 29ms/step - kl_loss: 0.1137 - loss: 122.5000 - reconstruction_loss: 122.3863\n",
      "Epoch 75/100\n",
      "\u001b[1m547/547\u001b[0m \u001b[32m━━━━━━━━━━━━━━━━━━━━\u001b[0m\u001b[37m\u001b[0m \u001b[1m14s\u001b[0m 25ms/step - kl_loss: 0.1134 - loss: 122.5021 - reconstruction_loss: 122.3887\n",
      "Epoch 76/100\n",
      "\u001b[1m547/547\u001b[0m \u001b[32m━━━━━━━━━━━━━━━━━━━━\u001b[0m\u001b[37m\u001b[0m \u001b[1m14s\u001b[0m 26ms/step - kl_loss: 0.1135 - loss: 122.2993 - reconstruction_loss: 122.1858\n",
      "Epoch 77/100\n",
      "\u001b[1m547/547\u001b[0m \u001b[32m━━━━━━━━━━━━━━━━━━━━\u001b[0m\u001b[37m\u001b[0m \u001b[1m15s\u001b[0m 27ms/step - kl_loss: 0.1141 - loss: 122.6796 - reconstruction_loss: 122.5656\n",
      "Epoch 78/100\n",
      "\u001b[1m547/547\u001b[0m \u001b[32m━━━━━━━━━━━━━━━━━━━━\u001b[0m\u001b[37m\u001b[0m \u001b[1m15s\u001b[0m 26ms/step - kl_loss: 0.1136 - loss: 122.2963 - reconstruction_loss: 122.1827\n",
      "Epoch 79/100\n",
      "\u001b[1m547/547\u001b[0m \u001b[32m━━━━━━━━━━━━━━━━━━━━\u001b[0m\u001b[37m\u001b[0m \u001b[1m14s\u001b[0m 26ms/step - kl_loss: 0.1134 - loss: 122.1198 - reconstruction_loss: 122.0064\n",
      "Epoch 80/100\n",
      "\u001b[1m547/547\u001b[0m \u001b[32m━━━━━━━━━━━━━━━━━━━━\u001b[0m\u001b[37m\u001b[0m \u001b[1m15s\u001b[0m 27ms/step - kl_loss: 0.1136 - loss: 122.3280 - reconstruction_loss: 122.2144\n",
      "Epoch 81/100\n",
      "\u001b[1m547/547\u001b[0m \u001b[32m━━━━━━━━━━━━━━━━━━━━\u001b[0m\u001b[37m\u001b[0m \u001b[1m14s\u001b[0m 26ms/step - kl_loss: 0.1135 - loss: 122.3556 - reconstruction_loss: 122.2421\n",
      "Epoch 82/100\n",
      "\u001b[1m547/547\u001b[0m \u001b[32m━━━━━━━━━━━━━━━━━━━━\u001b[0m\u001b[37m\u001b[0m \u001b[1m17s\u001b[0m 30ms/step - kl_loss: 0.1130 - loss: 122.2397 - reconstruction_loss: 122.1267\n",
      "Epoch 83/100\n",
      "\u001b[1m547/547\u001b[0m \u001b[32m━━━━━━━━━━━━━━━━━━━━\u001b[0m\u001b[37m\u001b[0m \u001b[1m15s\u001b[0m 27ms/step - kl_loss: 0.1136 - loss: 121.7595 - reconstruction_loss: 121.6460\n",
      "Epoch 84/100\n",
      "\u001b[1m547/547\u001b[0m \u001b[32m━━━━━━━━━━━━━━━━━━━━\u001b[0m\u001b[37m\u001b[0m \u001b[1m15s\u001b[0m 28ms/step - kl_loss: 0.1136 - loss: 117.8256 - reconstruction_loss: 117.7119\n",
      "Epoch 85/100\n",
      "\u001b[1m547/547\u001b[0m \u001b[32m━━━━━━━━━━━━━━━━━━━━\u001b[0m\u001b[37m\u001b[0m \u001b[1m14s\u001b[0m 26ms/step - kl_loss: 0.1141 - loss: 117.6746 - reconstruction_loss: 117.5605\n",
      "Epoch 86/100\n",
      "\u001b[1m547/547\u001b[0m \u001b[32m━━━━━━━━━━━━━━━━━━━━\u001b[0m\u001b[37m\u001b[0m \u001b[1m14s\u001b[0m 26ms/step - kl_loss: 0.1143 - loss: 117.7594 - reconstruction_loss: 117.6451\n",
      "Epoch 87/100\n",
      "\u001b[1m547/547\u001b[0m \u001b[32m━━━━━━━━━━━━━━━━━━━━\u001b[0m\u001b[37m\u001b[0m \u001b[1m14s\u001b[0m 26ms/step - kl_loss: 0.1140 - loss: 117.6513 - reconstruction_loss: 117.5373\n",
      "Epoch 88/100\n",
      "\u001b[1m547/547\u001b[0m \u001b[32m━━━━━━━━━━━━━━━━━━━━\u001b[0m\u001b[37m\u001b[0m \u001b[1m16s\u001b[0m 29ms/step - kl_loss: 0.1137 - loss: 117.3478 - reconstruction_loss: 117.2341\n",
      "Epoch 89/100\n",
      "\u001b[1m547/547\u001b[0m \u001b[32m━━━━━━━━━━━━━━━━━━━━\u001b[0m\u001b[37m\u001b[0m \u001b[1m15s\u001b[0m 26ms/step - kl_loss: 0.1139 - loss: 117.5800 - reconstruction_loss: 117.4661\n",
      "Epoch 90/100\n",
      "\u001b[1m547/547\u001b[0m \u001b[32m━━━━━━━━━━━━━━━━━━━━\u001b[0m\u001b[37m\u001b[0m \u001b[1m13s\u001b[0m 23ms/step - kl_loss: 0.1137 - loss: 116.5436 - reconstruction_loss: 116.4299\n",
      "Epoch 91/100\n",
      "\u001b[1m547/547\u001b[0m \u001b[32m━━━━━━━━━━━━━━━━━━━━\u001b[0m\u001b[37m\u001b[0m \u001b[1m13s\u001b[0m 23ms/step - kl_loss: 0.1136 - loss: 117.0273 - reconstruction_loss: 116.9137\n",
      "Epoch 92/100\n",
      "\u001b[1m547/547\u001b[0m \u001b[32m━━━━━━━━━━━━━━━━━━━━\u001b[0m\u001b[37m\u001b[0m \u001b[1m13s\u001b[0m 23ms/step - kl_loss: 0.1138 - loss: 116.7399 - reconstruction_loss: 116.6261\n",
      "Epoch 93/100\n",
      "\u001b[1m547/547\u001b[0m \u001b[32m━━━━━━━━━━━━━━━━━━━━\u001b[0m\u001b[37m\u001b[0m \u001b[1m13s\u001b[0m 24ms/step - kl_loss: 0.1139 - loss: 116.9049 - reconstruction_loss: 116.7909\n",
      "Epoch 94/100\n",
      "\u001b[1m547/547\u001b[0m \u001b[32m━━━━━━━━━━━━━━━━━━━━\u001b[0m\u001b[37m\u001b[0m \u001b[1m14s\u001b[0m 25ms/step - kl_loss: 0.1140 - loss: 116.7035 - reconstruction_loss: 116.5895\n",
      "Epoch 95/100\n",
      "\u001b[1m547/547\u001b[0m \u001b[32m━━━━━━━━━━━━━━━━━━━━\u001b[0m\u001b[37m\u001b[0m \u001b[1m13s\u001b[0m 24ms/step - kl_loss: 0.1135 - loss: 116.5575 - reconstruction_loss: 116.4440\n",
      "Epoch 96/100\n",
      "\u001b[1m547/547\u001b[0m \u001b[32m━━━━━━━━━━━━━━━━━━━━\u001b[0m\u001b[37m\u001b[0m \u001b[1m14s\u001b[0m 24ms/step - kl_loss: 0.1136 - loss: 116.5783 - reconstruction_loss: 116.4647\n",
      "Epoch 97/100\n",
      "\u001b[1m547/547\u001b[0m \u001b[32m━━━━━━━━━━━━━━━━━━━━\u001b[0m\u001b[37m\u001b[0m \u001b[1m13s\u001b[0m 24ms/step - kl_loss: 0.1141 - loss: 116.7069 - reconstruction_loss: 116.5928\n",
      "Epoch 98/100\n",
      "\u001b[1m547/547\u001b[0m \u001b[32m━━━━━━━━━━━━━━━━━━━━\u001b[0m\u001b[37m\u001b[0m \u001b[1m13s\u001b[0m 23ms/step - kl_loss: 0.1136 - loss: 116.5141 - reconstruction_loss: 116.4004\n",
      "Epoch 99/100\n",
      "\u001b[1m547/547\u001b[0m \u001b[32m━━━━━━━━━━━━━━━━━━━━\u001b[0m\u001b[37m\u001b[0m \u001b[1m13s\u001b[0m 23ms/step - kl_loss: 0.1136 - loss: 116.5446 - reconstruction_loss: 116.4310\n",
      "Epoch 100/100\n",
      "\u001b[1m547/547\u001b[0m \u001b[32m━━━━━━━━━━━━━━━━━━━━\u001b[0m\u001b[37m\u001b[0m \u001b[1m13s\u001b[0m 23ms/step - kl_loss: 0.1138 - loss: 116.4906 - reconstruction_loss: 116.3768\n"
     ]
    }
   ],
   "source": [
    "\n",
    "# Train using the dataset\n",
    "history = cvae.fit(train_dataset, epochs=100)"
   ]
  },
  {
   "cell_type": "markdown",
   "metadata": {},
   "source": [
    "### Showcase the model a little bit"
   ]
  },
  {
   "cell_type": "code",
   "execution_count": 15,
   "metadata": {},
   "outputs": [
    {
     "name": "stdout",
     "output_type": "stream",
     "text": [
      "\n",
      "Example 0, Label: 5\n",
      "\n",
      "Input Image:\n",
      "\n"
     ]
    },
    {
     "data": {
      "image/png": "[encoded data removed]",
      "text/plain": [
       "<Figure size 100x100 with 1 Axes>"
      ]
     },
     "metadata": {},
     "output_type": "display_data"
    },
    {
     "name": "stdout",
     "output_type": "stream",
     "text": [
      "Tensor(\"cvae_1/encoder_1/z_mean_1/BiasAdd:0\", shape=(1, 16), dtype=float32)\n",
      "\u001b[1m1/1\u001b[0m \u001b[32m━━━━━━━━━━━━━━━━━━━━\u001b[0m\u001b[37m\u001b[0m \u001b[1m0s\u001b[0m 261ms/step\n",
      "\n",
      "Output Image:\n",
      "\n"
     ]
    },
    {
     "data": {
      "image/png": "[encoded data removed]",
      "text/plain": [
       "<Figure size 100x100 with 1 Axes>"
      ]
     },
     "metadata": {},
     "output_type": "display_data"
    },
    {
     "name": "stdout",
     "output_type": "stream",
     "text": [
      "\n",
      "Example 1, Label: 0\n",
      "\n",
      "Input Image:\n",
      "\n"
     ]
    },
    {
     "data": {
      "image/png": "[encoded data removed]",
      "text/plain": [
       "<Figure size 100x100 with 1 Axes>"
      ]
     },
     "metadata": {},
     "output_type": "display_data"
    },
    {
     "name": "stdout",
     "output_type": "stream",
     "text": [
      "\u001b[1m1/1\u001b[0m \u001b[32m━━━━━━━━━━━━━━━━━━━━\u001b[0m\u001b[37m\u001b[0m \u001b[1m0s\u001b[0m 50ms/step\n",
      "\n",
      "Output Image:\n",
      "\n"
     ]
    },
    {
     "data": {
      "image/png": "[encoded data removed]",
      "text/plain": [
       "<Figure size 100x100 with 1 Axes>"
      ]
     },
     "metadata": {},
     "output_type": "display_data"
    },
    {
     "name": "stdout",
     "output_type": "stream",
     "text": [
      "\n",
      "Example 2, Label: 4\n",
      "\n",
      "Input Image:\n",
      "\n"
     ]
    },
    {
     "data": {
      "image/png": "[encoded data removed]",
      "text/plain": [
       "<Figure size 100x100 with 1 Axes>"
      ]
     },
     "metadata": {},
     "output_type": "display_data"
    },
    {
     "name": "stdout",
     "output_type": "stream",
     "text": [
      "\u001b[1m1/1\u001b[0m \u001b[32m━━━━━━━━━━━━━━━━━━━━\u001b[0m\u001b[37m\u001b[0m \u001b[1m0s\u001b[0m 52ms/step\n",
      "\n",
      "Output Image:\n",
      "\n"
     ]
    },
    {
     "data": {
      "image/png": "[encoded data removed]",
      "text/plain": [
       "<Figure size 100x100 with 1 Axes>"
      ]
     },
     "metadata": {},
     "output_type": "display_data"
    },
    {
     "name": "stdout",
     "output_type": "stream",
     "text": [
      "\n",
      "Example 3, Label: 1\n",
      "\n",
      "Input Image:\n",
      "\n"
     ]
    },
    {
     "data": {
      "image/png": "[encoded data removed]",
      "text/plain": [
       "<Figure size 100x100 with 1 Axes>"
      ]
     },
     "metadata": {},
     "output_type": "display_data"
    },
    {
     "name": "stdout",
     "output_type": "stream",
     "text": [
      "\u001b[1m1/1\u001b[0m \u001b[32m━━━━━━━━━━━━━━━━━━━━\u001b[0m\u001b[37m\u001b[0m \u001b[1m0s\u001b[0m 47ms/step\n",
      "\n",
      "Output Image:\n",
      "\n"
     ]
    },
    {
     "data": {
      "image/png": "[encoded data removed]",
      "text/plain": [
       "<Figure size 100x100 with 1 Axes>"
      ]
     },
     "metadata": {},
     "output_type": "display_data"
    },
    {
     "name": "stdout",
     "output_type": "stream",
     "text": [
      "\n",
      "Example 4, Label: 9\n",
      "\n",
      "Input Image:\n",
      "\n"
     ]
    },
    {
     "data": {
      "image/png": "[encoded data removed]",
      "text/plain": [
       "<Figure size 100x100 with 1 Axes>"
      ]
     },
     "metadata": {},
     "output_type": "display_data"
    },
    {
     "name": "stdout",
     "output_type": "stream",
     "text": [
      "\u001b[1m1/1\u001b[0m \u001b[32m━━━━━━━━━━━━━━━━━━━━\u001b[0m\u001b[37m\u001b[0m \u001b[1m0s\u001b[0m 48ms/step\n",
      "\n",
      "Output Image:\n",
      "\n"
     ]
    },
    {
     "data": {
      "image/png": "[encoded data removed]",
      "text/plain": [
       "<Figure size 100x100 with 1 Axes>"
      ]
     },
     "metadata": {},
     "output_type": "display_data"
    },
    {
     "name": "stdout",
     "output_type": "stream",
     "text": [
      "\n",
      "Example 5, Label: 2\n",
      "\n",
      "Input Image:\n",
      "\n"
     ]
    },
    {
     "data": {
      "image/png": "[encoded data removed]",
      "text/plain": [
       "<Figure size 100x100 with 1 Axes>"
      ]
     },
     "metadata": {},
     "output_type": "display_data"
    },
    {
     "name": "stdout",
     "output_type": "stream",
     "text": [
      "\u001b[1m1/1\u001b[0m \u001b[32m━━━━━━━━━━━━━━━━━━━━\u001b[0m\u001b[37m\u001b[0m \u001b[1m0s\u001b[0m 59ms/step\n",
      "\n",
      "Output Image:\n",
      "\n"
     ]
    },
    {
     "data": {
      "image/png": "[encoded data removed]",
      "text/plain": [
       "<Figure size 100x100 with 1 Axes>"
      ]
     },
     "metadata": {},
     "output_type": "display_data"
    },
    {
     "name": "stdout",
     "output_type": "stream",
     "text": [
      "\n",
      "Example 6, Label: 1\n",
      "\n",
      "Input Image:\n",
      "\n"
     ]
    },
    {
     "data": {
      "image/png": "[encoded data removed]",
      "text/plain": [
       "<Figure size 100x100 with 1 Axes>"
      ]
     },
     "metadata": {},
     "output_type": "display_data"
    },
    {
     "name": "stdout",
     "output_type": "stream",
     "text": [
      "\u001b[1m1/1\u001b[0m \u001b[32m━━━━━━━━━━━━━━━━━━━━\u001b[0m\u001b[37m\u001b[0m \u001b[1m0s\u001b[0m 49ms/step\n",
      "\n",
      "Output Image:\n",
      "\n"
     ]
    },
    {
     "data": {
      "image/png": "[encoded data removed]",
      "text/plain": [
       "<Figure size 100x100 with 1 Axes>"
      ]
     },
     "metadata": {},
     "output_type": "display_data"
    },
    {
     "name": "stdout",
     "output_type": "stream",
     "text": [
      "\n",
      "Example 7, Label: 3\n",
      "\n",
      "Input Image:\n",
      "\n"
     ]
    },
    {
     "data": {
      "image/png": "[encoded data removed]",
      "text/plain": [
       "<Figure size 100x100 with 1 Axes>"
      ]
     },
     "metadata": {},
     "output_type": "display_data"
    },
    {
     "name": "stdout",
     "output_type": "stream",
     "text": [
      "\u001b[1m1/1\u001b[0m \u001b[32m━━━━━━━━━━━━━━━━━━━━\u001b[0m\u001b[37m\u001b[0m \u001b[1m0s\u001b[0m 51ms/step\n",
      "\n",
      "Output Image:\n",
      "\n"
     ]
    },
    {
     "data": {
      "image/png": "[encoded data removed]",
      "text/plain": [
       "<Figure size 100x100 with 1 Axes>"
      ]
     },
     "metadata": {},
     "output_type": "display_data"
    },
    {
     "name": "stdout",
     "output_type": "stream",
     "text": [
      "\n",
      "Example 8, Label: 1\n",
      "\n",
      "Input Image:\n",
      "\n"
     ]
    },
    {
     "data": {
      "image/png": "[encoded data removed]",
      "text/plain": [
       "<Figure size 100x100 with 1 Axes>"
      ]
     },
     "metadata": {},
     "output_type": "display_data"
    },
    {
     "name": "stdout",
     "output_type": "stream",
     "text": [
      "\u001b[1m1/1\u001b[0m \u001b[32m━━━━━━━━━━━━━━━━━━━━\u001b[0m\u001b[37m\u001b[0m \u001b[1m0s\u001b[0m 75ms/step\n",
      "\n",
      "Output Image:\n",
      "\n"
     ]
    },
    {
     "data": {
      "image/png": "[encoded data removed]",
      "text/plain": [
       "<Figure size 100x100 with 1 Axes>"
      ]
     },
     "metadata": {},
     "output_type": "display_data"
    },
    {
     "name": "stdout",
     "output_type": "stream",
     "text": [
      "\n",
      "Example 9, Label: 4\n",
      "\n",
      "Input Image:\n",
      "\n"
     ]
    },
    {
     "data": {
      "image/png": "[encoded data removed]",
      "text/plain": [
       "<Figure size 100x100 with 1 Axes>"
      ]
     },
     "metadata": {},
     "output_type": "display_data"
    },
    {
     "name": "stdout",
     "output_type": "stream",
     "text": [
      "\u001b[1m1/1\u001b[0m \u001b[32m━━━━━━━━━━━━━━━━━━━━\u001b[0m\u001b[37m\u001b[0m \u001b[1m0s\u001b[0m 69ms/step\n",
      "\n",
      "Output Image:\n",
      "\n"
     ]
    },
    {
     "data": {
      "image/png": "[encoded data removed]",
      "text/plain": [
       "<Figure size 100x100 with 1 Axes>"
      ]
     },
     "metadata": {},
     "output_type": "display_data"
    }
   ],
   "source": [
    "cvar_autoEncoder.setAutoEncoder(cvae)\n",
    "\n",
    "for i in range(10):\n",
    "    print(f\"\\nExample {i}, Label: {np.argmax(mnist_labels_onehot[i])}\")\n",
    "    cvar_autoEncoder.compareInputOutput(mnist_digits[i], mnist_labels_onehot[i])"
   ]
  },
  {
   "cell_type": "markdown",
   "metadata": {},
   "source": [
    "### Trying a checkerboard image, with a label of 5"
   ]
  },
  {
   "cell_type": "code",
   "execution_count": 119,
   "metadata": {},
   "outputs": [
    {
     "name": "stdout",
     "output_type": "stream",
     "text": [
      "\n",
      "Input Image:\n",
      "\n"
     ]
    },
    {
     "data": {
      "image/png": "[encoded data removed]",
      "text/plain": [
       "<Figure size 100x100 with 1 Axes>"
      ]
     },
     "metadata": {},
     "output_type": "display_data"
    },
    {
     "name": "stdout",
     "output_type": "stream",
     "text": [
      "\u001b[1m1/1\u001b[0m \u001b[32m━━━━━━━━━━━━━━━━━━━━\u001b[0m\u001b[37m\u001b[0m \u001b[1m0s\u001b[0m 42ms/step\n",
      "\n",
      "Output Image:\n",
      "\n"
     ]
    },
    {
     "data": {
      "image/png": "[encoded data removed]",
      "text/plain": [
       "<Figure size 100x100 with 1 Axes>"
      ]
     },
     "metadata": {},
     "output_type": "display_data"
    }
   ],
   "source": [
    "# Function for getting a number encoding label\n",
    "def createLabelEncoding(num):\n",
    "    encoding  = np.zeros(10)\n",
    "    encoding[num] = 1\n",
    "    return encoding\n",
    "\n",
    "test_image = np.zeros((28, 28, 1), dtype=np.float32)\n",
    "\n",
    "start_idx = 7  # (28 - 14) // 2\n",
    "end_idx = 22   # start_idx + 14\n",
    "box_size = 1\n",
    "\n",
    "for i in range(start_idx, end_idx, box_size):\n",
    "   for j in range(start_idx, end_idx, box_size):\n",
    "       # If sum of indices is even, make it black (0)\n",
    "       if ((i + j) // box_size) % 2 == 0:\n",
    "           test_image[i:i+box_size, j:j+box_size] = 1\n",
    "\n",
    "test_label = createLabelEncoding(5)\n",
    "cvar_autoEncoder.compareInputOutput(test_image, test_label)  # Uses test_image but with the given input of 5\n",
    "\n"
   ]
  },
  {
   "cell_type": "markdown",
   "metadata": {},
   "source": [
    "Overall, the Handwritten digit of the 5 is not super well done, and I think that this is due to the model not being trained in the best way. \n",
    "It takes over 20 minutes to train the model every time, so running hyperparameter tuning or more epochs is a time consuming task, and I am currently\n",
    "content with the model's generation of it's own 5. I might come back later and work on this hyperparameter tuning and longer training time more. "
   ]
  },
  {
   "cell_type": "code",
   "execution_count": 123,
   "metadata": {},
   "outputs": [
    {
     "name": "stdout",
     "output_type": "stream",
     "text": [
      "\n",
      "Image of a 5 with Label: 0\n",
      "\n",
      "Input Image:\n",
      "\n"
     ]
    },
    {
     "data": {
      "image/png": "[encoded data removed]",
      "text/plain": [
       "<Figure size 100x100 with 1 Axes>"
      ]
     },
     "metadata": {},
     "output_type": "display_data"
    },
    {
     "name": "stdout",
     "output_type": "stream",
     "text": [
      "\u001b[1m1/1\u001b[0m \u001b[32m━━━━━━━━━━━━━━━━━━━━\u001b[0m\u001b[37m\u001b[0m \u001b[1m0s\u001b[0m 42ms/step\n",
      "\n",
      "Output Image:\n",
      "\n"
     ]
    },
    {
     "data": {
      "image/png": "[encoded data removed]",
      "text/plain": [
       "<Figure size 100x100 with 1 Axes>"
      ]
     },
     "metadata": {},
     "output_type": "display_data"
    },
    {
     "name": "stdout",
     "output_type": "stream",
     "text": [
      "\n",
      "Image of a 5 with Label: 1\n",
      "\n",
      "Input Image:\n",
      "\n"
     ]
    },
    {
     "data": {
      "image/png": "[encoded data removed]",
      "text/plain": [
       "<Figure size 100x100 with 1 Axes>"
      ]
     },
     "metadata": {},
     "output_type": "display_data"
    },
    {
     "name": "stdout",
     "output_type": "stream",
     "text": [
      "\u001b[1m1/1\u001b[0m \u001b[32m━━━━━━━━━━━━━━━━━━━━\u001b[0m\u001b[37m\u001b[0m \u001b[1m0s\u001b[0m 37ms/step\n",
      "\n",
      "Output Image:\n",
      "\n"
     ]
    },
    {
     "data": {
      "image/png": "[encoded data removed]",
      "text/plain": [
       "<Figure size 100x100 with 1 Axes>"
      ]
     },
     "metadata": {},
     "output_type": "display_data"
    },
    {
     "name": "stdout",
     "output_type": "stream",
     "text": [
      "\n",
      "Image of a 5 with Label: 2\n",
      "\n",
      "Input Image:\n",
      "\n"
     ]
    },
    {
     "data": {
      "image/png": "[encoded data removed]",
      "text/plain": [
       "<Figure size 100x100 with 1 Axes>"
      ]
     },
     "metadata": {},
     "output_type": "display_data"
    },
    {
     "name": "stdout",
     "output_type": "stream",
     "text": [
      "\u001b[1m1/1\u001b[0m \u001b[32m━━━━━━━━━━━━━━━━━━━━\u001b[0m\u001b[37m\u001b[0m \u001b[1m0s\u001b[0m 38ms/step\n",
      "\n",
      "Output Image:\n",
      "\n"
     ]
    },
    {
     "data": {
      "image/png": "[encoded data removed]",
      "text/plain": [
       "<Figure size 100x100 with 1 Axes>"
      ]
     },
     "metadata": {},
     "output_type": "display_data"
    },
    {
     "name": "stdout",
     "output_type": "stream",
     "text": [
      "\n",
      "Image of a 5 with Label: 3\n",
      "\n",
      "Input Image:\n",
      "\n"
     ]
    },
    {
     "data": {
      "image/png": "[encoded data removed]",
      "text/plain": [
       "<Figure size 100x100 with 1 Axes>"
      ]
     },
     "metadata": {},
     "output_type": "display_data"
    },
    {
     "name": "stdout",
     "output_type": "stream",
     "text": [
      "\u001b[1m1/1\u001b[0m \u001b[32m━━━━━━━━━━━━━━━━━━━━\u001b[0m\u001b[37m\u001b[0m \u001b[1m0s\u001b[0m 83ms/step\n",
      "\n",
      "Output Image:\n",
      "\n"
     ]
    },
    {
     "data": {
      "image/png": "[encoded data removed]",
      "text/plain": [
       "<Figure size 100x100 with 1 Axes>"
      ]
     },
     "metadata": {},
     "output_type": "display_data"
    },
    {
     "name": "stdout",
     "output_type": "stream",
     "text": [
      "\n",
      "Image of a 5 with Label: 4\n",
      "\n",
      "Input Image:\n",
      "\n"
     ]
    },
    {
     "data": {
      "image/png": "[encoded data removed]",
      "text/plain": [
       "<Figure size 100x100 with 1 Axes>"
      ]
     },
     "metadata": {},
     "output_type": "display_data"
    },
    {
     "name": "stdout",
     "output_type": "stream",
     "text": [
      "\u001b[1m1/1\u001b[0m \u001b[32m━━━━━━━━━━━━━━━━━━━━\u001b[0m\u001b[37m\u001b[0m \u001b[1m0s\u001b[0m 52ms/step\n",
      "\n",
      "Output Image:\n",
      "\n"
     ]
    },
    {
     "data": {
      "image/png": "[encoded data removed]",
      "text/plain": [
       "<Figure size 100x100 with 1 Axes>"
      ]
     },
     "metadata": {},
     "output_type": "display_data"
    },
    {
     "name": "stdout",
     "output_type": "stream",
     "text": [
      "\n",
      "Image of a 5 with Label: 5\n",
      "\n",
      "Input Image:\n",
      "\n"
     ]
    },
    {
     "data": {
      "image/png": "[encoded data removed]",
      "text/plain": [
       "<Figure size 100x100 with 1 Axes>"
      ]
     },
     "metadata": {},
     "output_type": "display_data"
    },
    {
     "name": "stdout",
     "output_type": "stream",
     "text": [
      "\u001b[1m1/1\u001b[0m \u001b[32m━━━━━━━━━━━━━━━━━━━━\u001b[0m\u001b[37m\u001b[0m \u001b[1m0s\u001b[0m 54ms/step\n",
      "\n",
      "Output Image:\n",
      "\n"
     ]
    },
    {
     "data": {
      "image/png": "[encoded data removed]",
      "text/plain": [
       "<Figure size 100x100 with 1 Axes>"
      ]
     },
     "metadata": {},
     "output_type": "display_data"
    },
    {
     "name": "stdout",
     "output_type": "stream",
     "text": [
      "\n",
      "Image of a 5 with Label: 6\n",
      "\n",
      "Input Image:\n",
      "\n"
     ]
    },
    {
     "data": {
      "image/png": "[encoded data removed]",
      "text/plain": [
       "<Figure size 100x100 with 1 Axes>"
      ]
     },
     "metadata": {},
     "output_type": "display_data"
    },
    {
     "name": "stdout",
     "output_type": "stream",
     "text": [
      "\u001b[1m1/1\u001b[0m \u001b[32m━━━━━━━━━━━━━━━━━━━━\u001b[0m\u001b[37m\u001b[0m \u001b[1m0s\u001b[0m 56ms/step\n",
      "\n",
      "Output Image:\n",
      "\n"
     ]
    },
    {
     "data": {
      "image/png": "[encoded data removed]",
      "text/plain": [
       "<Figure size 100x100 with 1 Axes>"
      ]
     },
     "metadata": {},
     "output_type": "display_data"
    },
    {
     "name": "stdout",
     "output_type": "stream",
     "text": [
      "\n",
      "Image of a 5 with Label: 7\n",
      "\n",
      "Input Image:\n",
      "\n"
     ]
    },
    {
     "data": {
      "image/png": "[encoded data removed]",
      "text/plain": [
       "<Figure size 100x100 with 1 Axes>"
      ]
     },
     "metadata": {},
     "output_type": "display_data"
    },
    {
     "name": "stdout",
     "output_type": "stream",
     "text": [
      "\u001b[1m1/1\u001b[0m \u001b[32m━━━━━━━━━━━━━━━━━━━━\u001b[0m\u001b[37m\u001b[0m \u001b[1m0s\u001b[0m 57ms/step\n",
      "\n",
      "Output Image:\n",
      "\n"
     ]
    },
    {
     "data": {
      "image/png": "[encoded data removed]",
      "text/plain": [
       "<Figure size 100x100 with 1 Axes>"
      ]
     },
     "metadata": {},
     "output_type": "display_data"
    },
    {
     "name": "stdout",
     "output_type": "stream",
     "text": [
      "\n",
      "Image of a 5 with Label: 8\n",
      "\n",
      "Input Image:\n",
      "\n"
     ]
    },
    {
     "data": {
      "image/png": "[encoded data removed]",
      "text/plain": [
       "<Figure size 100x100 with 1 Axes>"
      ]
     },
     "metadata": {},
     "output_type": "display_data"
    },
    {
     "name": "stdout",
     "output_type": "stream",
     "text": [
      "\u001b[1m1/1\u001b[0m \u001b[32m━━━━━━━━━━━━━━━━━━━━\u001b[0m\u001b[37m\u001b[0m \u001b[1m0s\u001b[0m 55ms/step\n",
      "\n",
      "Output Image:\n",
      "\n"
     ]
    },
    {
     "data": {
      "image/png": "[encoded data removed]",
      "text/plain": [
       "<Figure size 100x100 with 1 Axes>"
      ]
     },
     "metadata": {},
     "output_type": "display_data"
    },
    {
     "name": "stdout",
     "output_type": "stream",
     "text": [
      "\n",
      "Image of a 5 with Label: 9\n",
      "\n",
      "Input Image:\n",
      "\n"
     ]
    },
    {
     "data": {
      "image/png": "[encoded data removed]",
      "text/plain": [
       "<Figure size 100x100 with 1 Axes>"
      ]
     },
     "metadata": {},
     "output_type": "display_data"
    },
    {
     "name": "stdout",
     "output_type": "stream",
     "text": [
      "\u001b[1m1/1\u001b[0m \u001b[32m━━━━━━━━━━━━━━━━━━━━\u001b[0m\u001b[37m\u001b[0m \u001b[1m0s\u001b[0m 53ms/step\n",
      "\n",
      "Output Image:\n",
      "\n"
     ]
    },
    {
     "data": {
      "image/png": "[encoded data removed]",
      "text/plain": [
       "<Figure size 100x100 with 1 Axes>"
      ]
     },
     "metadata": {},
     "output_type": "display_data"
    }
   ],
   "source": [
    "for i in range(10):\n",
    "    print(f\"\\nImage of a 5 with Label: {i}\")\n",
    "    cvar_autoEncoder.compareInputOutput(mnist_digits[0], createLabelEncoding(i))"
   ]
  },
  {
   "cell_type": "markdown",
   "metadata": {},
   "source": [
    "Overall, I think that this does not show too much, but again, I think that if I trained this model for considerably longer, than the outputs here would be more interesting"
   ]
  },
  {
   "cell_type": "markdown",
   "metadata": {},
   "source": [
    "### Citations:\n",
    "\n",
    "1) Building Autoencoders in Keras:\n",
    "   https://blog.keras.io/building-autoencoders-in-keras.html\n",
    "\n",
    "2) Variational AutoEncoder:\n",
    "   https://keras.io/examples/generative/vae/\n",
    "\n",
    "3) Stack Overflow\n",
    "   https://stackoverflow.com/questions/51202181/how-do-i-select-only-a-specific-digit-from-the-mnist-dataset-provided-by-keras\n",
    "   \n",
    "4) Github\n",
    "   https://ijdykeman.github.io/ml/2016/12/21/cvae.html"
   ]
  }
 ],
 "metadata": {
  "kernelspec": {
   "display_name": ".venv",
   "language": "python",
   "name": "python3"
  },
  "language_info": {
   "codemirror_mode": {
    "name": "ipython",
    "version": 3
   },
   "file_extension": ".py",
   "mimetype": "text/x-python",
   "name": "python",
   "nbconvert_exporter": "python",
   "pygments_lexer": "ipython3",
   "version": "3.11.5"
  }
 },
 "nbformat": 4,
 "nbformat_minor": 2
}
